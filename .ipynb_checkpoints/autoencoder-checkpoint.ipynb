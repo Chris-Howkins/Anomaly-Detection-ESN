{
 "cells": [
  {
   "cell_type": "code",
   "execution_count": 77,
   "id": "67ff721e",
   "metadata": {
    "scrolled": true
   },
   "outputs": [
    {
     "name": "stdout",
     "output_type": "stream",
     "text": [
      "Using GPU...\n"
     ]
    }
   ],
   "source": [
    "import numpy as np\n",
    "import torch\n",
    "import torch.nn as nn\n",
    "import torch.nn.functional as F\n",
    "import torch.optim as optim\n",
    "import torch.utils.data as data\n",
    "import matplotlib.pyplot as plt\n",
    "import os\n",
    "import tifffile as tiff\n",
    "from glob import glob\n",
    "from torchvision import datasets, transforms\n",
    "from torchvision.transforms import ToPILImage\n",
    "from torchvision.io import read_image\n",
    "from PIL import Image\n",
    "from sklearn.decomposition import PCA\n",
    "from sklearn.metrics import mean_squared_error\n",
    "from skimage import io\n",
    "import cv2\n",
    "from sklearn.linear_model import RidgeClassifier\n",
    "from sklearn.model_selection import train_test_split\n",
    "from sklearn.linear_model import Ridge\n",
    "from sklearn.linear_model import LogisticRegression\n",
    "from sklearn.metrics import make_scorer, roc_auc_score, accuracy_score, f1_score, balanced_accuracy_score, precision_score, recall_score, roc_curve\n",
    "from sklearn.model_selection import GridSearchCV\n",
    "from sklearn.base import BaseEstimator\n",
    "from sklearn.utils import compute_sample_weight\n",
    "from optuna.pruners import SuccessiveHalvingPruner\n",
    "from torch.utils.data import TensorDataset\n",
    "from torch.utils.data import DataLoader\n",
    "from optuna.visualization import plot_optimization_history\n",
    "\n",
    "\n",
    "\n",
    "\n",
    "\n",
    "\n",
    "\n",
    "\n",
    "\n",
    "\n",
    "\n",
    "\n",
    "if torch.cuda.is_available():\n",
    "    print(\"Using GPU...\")\n",
    "    dev = \"cuda:0\"\n",
    "else:\n",
    "    print(\"Using CPU...\")\n",
    "    dev = \"cpu\"\n",
    "    \n",
    "    \n",
    "device = torch.device(dev)\n",
    "\n",
    "\n",
    "\n",
    "\n",
    "\n",
    "\n",
    "#Set the random seed for reproducibility \n",
    "torch.manual_seed(2020) \n",
    "\n",
    "\n",
    "\n",
    "class Autoencoder(nn.Module):\n",
    "    def __init__(self):\n",
    "        super(Autoencoder, self).__init__()\n",
    "        self.encoder = nn.Sequential(\n",
    "            # Transform the 28 by 28 image to an embedded code size of 30\n",
    "            nn.Linear(38400, 30),\n",
    "            nn.ReLU()\n",
    "        )\n",
    "        self.decoder = nn.Sequential(\n",
    "            nn.Linear(30, 38400),\n",
    "            nn.Sigmoid()  #to range [0, 1]\n",
    "        )\n",
    "\n",
    "    def forward(self, x):\n",
    "        # x will be a (batch_size,1,28,28) tensor when using MNIST\n",
    "        # so we will reshape it to a (batch_size, 28*28) flat tensor.\n",
    "        # After it has been decoded we will reshape back to the image shape.\n",
    "        x = self.encoder(x.view(-1, 38400))\n",
    "        x = self.decoder(x)\n",
    "        return x.view(-1, 1, 160, 240)\n",
    "\n",
    "\n",
    "\n",
    "\n",
    "class ConvAutoencoder(nn.Module):\n",
    "    def __init__(self):\n",
    "        super(ConvAutoencoder, self).__init__()\n",
    "        self.encoder = nn.Sequential(\n",
    "            # 1 input image channel, 16 output channel, 3x3 square convolution\n",
    "            nn.Conv2d(1, 16, 3, stride=2, padding=1),\n",
    "            nn.ReLU(),  # activation function\n",
    "            nn.Conv2d(16, 32, kernel_size=3, stride=2, padding=1),  # conv layer\n",
    "            nn.ReLU(), # activation function \n",
    "            nn.Conv2d(32, 64, kernel_size=7, stride=1, padding=0) # conv layer\n",
    "        )\n",
    "        self.decoder = nn.Sequential(\n",
    "            nn.ConvTranspose2d(64, 32, kernel_size=7, stride=1, padding=0), # conv transpose layer\n",
    "            nn.ReLU(), # activation function\n",
    "            nn.ConvTranspose2d(32, 16, 3, stride=2, padding=1, output_padding=1), # conv transpose layer\n",
    "            nn.ReLU(), # activation function\n",
    "            nn.ConvTranspose2d(16, 1, 3, stride=2, padding=1, output_padding=1),\n",
    "            nn.Sigmoid()  #to range [0, 1]\n",
    "        )\n",
    "\n",
    "    def forward(self, x):\n",
    "        x = self.encoder(x)\n",
    "        x = self.decoder(x)\n",
    "        return x\n",
    "\n",
    "\n",
    "\n",
    "\n",
    "\n",
    "\n",
    "\n",
    "class ConvAutoencoder2D(nn.Module):\n",
    "    def __init__(self):\n",
    "        super(ConvAutoencoder2D, self).__init__()\n",
    "        self.encoder = nn.Sequential(\n",
    "            # 1 input image channel, 16 output channel, 3x3 square convolution\n",
    "            nn.Conv2d(1, 16, 3, stride=2, padding=1),\n",
    "            nn.ReLU(),  # activation function\n",
    "            nn.Conv2d(16, 32, kernel_size=3, stride=2, padding=1),  # conv layer\n",
    "            nn.ReLU(), # activation function \n",
    "            nn.Conv2d(32, 64, kernel_size=7, stride=1, padding=0), # conv layer\n",
    "            nn.ReLU(),\n",
    "            #nn.Linear( 64*1*1, 2)\n",
    "            nn.Linear( 64*1*1, 2)\n",
    "        )\n",
    "        self.decoder = nn.Sequential(\n",
    "            \n",
    "            nn.ConvTranspose2d(64, 32, kernel_size=7, stride=1, padding=0), # conv transpose layer\n",
    "            nn.ReLU(), # activation function\n",
    "            nn.ConvTranspose2d(32, 16, 3, stride=2, padding=1, output_padding=1), # conv transpose layer\n",
    "            nn.ReLU(), # activation function\n",
    "            nn.ConvTranspose2d(16, 1, 3, stride=2, padding=1, output_padding=1),\n",
    "            nn.Sigmoid()  #to range [0, 1]\n",
    "        )\n",
    "\n",
    "    def forward(self, x):\n",
    "        x = self.encoder(x)\n",
    "        x = self.decoder(x)\n",
    "        return x"
   ]
  },
  {
   "cell_type": "code",
   "execution_count": null,
   "id": "6f1c0287",
   "metadata": {},
   "outputs": [],
   "source": [
    "imgA = './UCSD_Anomaly_Dataset.v1p2/UCSDped1/Test_all/Test017_141.tif'\n",
    "imgB = './UCSD_Anomaly_Dataset.v1p2/UCSDped1/Test_all/Test017_143.tif'\n",
    "\n",
    "\n",
    "imlist = [imgA,imgB]\n",
    "\n",
    "w,h=Image.open(imlist[0]).size\n",
    "N=len(imlist)\n",
    "\n",
    "arr=np.zeros((h,w),float)\n",
    "\n",
    "\n",
    "for im in imlist:\n",
    "    imarr=np.array(Image.open(im),dtype=float)\n",
    "    arr=arr+imarr/N\n",
    "\n",
    "\n",
    "arr=np.array(np.round(arr),dtype=np.uint8)\n",
    "\n",
    "out=Image.fromarray(arr)\n",
    "#out.save(\"017_142.tif\")\n",
    "#out.show()\n",
    "\n",
    "\n",
    "path = './UCSD_Anomaly_Dataset.v1p2/UCSDped1/Test_all'\n",
    "imageList = [os.path.join(path, file) for file in os.listdir(path)]\n",
    "print(imageList[0])\n",
    "\n",
    "w,h=Image.open(imageList[0]).size\n",
    "N=len(imageList)\n",
    "\n",
    "avgArr=np.zeros((h,w),float)\n",
    "\n",
    "for im in imageList:\n",
    "    imageArr=np.array(Image.open(im),dtype=float)\n",
    "    avgArr=avgArr+imageArr/N\n",
    "    \n",
    "avgArr=np.array(np.round(avgArr),dtype=np.uint8)\n",
    "    \n",
    "avg=Image.fromarray(avgArr)\n",
    "#avg.save(\"Test_avg.tif\")\n",
    "avg.show()\n",
    "\n",
    "    \n"
   ]
  },
  {
   "cell_type": "code",
   "execution_count": 2,
   "id": "292923ab",
   "metadata": {
    "scrolled": false
   },
   "outputs": [
    {
     "name": "stdout",
     "output_type": "stream",
     "text": [
      "(70, 200, 160, 240)\n"
     ]
    }
   ],
   "source": [
    "num_epochs = 30\n",
    "\n",
    "\"\"\"\n",
    "class AnomalyDataset(data.Dataset):\n",
    "    \n",
    "    def __init__(self, img_dir, transform=None):\n",
    "        self.img_dir = img_dir\n",
    "        self.folder_names = os.listdir(self.img_dir)\n",
    "        self.transform = transform\n",
    "        \n",
    "    def __len__(self):\n",
    "        return len(self.folder_names)\n",
    "        \n",
    "    \n",
    "    def __getitem__(self, index):\n",
    "        #img_path = self.img_dir[index]\n",
    "        #image = Image.open(img_path)\n",
    "        #avg = Image.open('Test_avg.tif')\n",
    "        #image1 = np.asarray(image)\n",
    "        #image2 = np.asarray(avg)\n",
    "        #image = image1 - image2\n",
    "        #image = Image.fromarray(image)\n",
    "        #image.show()\n",
    "        #if self.transform:\n",
    "        #    image = self.transform(image)\n",
    "        \n",
    "        folder_path = os.path.join(self.img_dir, self.folder_names[index])\n",
    "        image_filenames = os.listdir(folder_path)\n",
    "        \n",
    "        images = []\n",
    "        for img in image_filenames:\n",
    "            if img.endswith('.tif'):\n",
    "                image_path = os.path.join(folder_path, img)\n",
    "                image = Image.open(image_path)\n",
    "            \n",
    "                if self.transform:\n",
    "                    image = self.transform(image)\n",
    "                images.append(image)\n",
    "            \n",
    "        return images\n",
    "      \n",
    "      \n",
    "\"\"\"   \n",
    "\n",
    "        \n",
    "path = './UCSD_Anomaly_Dataset.v1p2/UCSDped1/All_data'\n",
    "data_transforms = transforms.Compose([transforms.Resize((160, 240)), transforms.ToTensor()])\n",
    "\n",
    "#dataset = AnomalyDataset(path, data_transforms)\n",
    "\n",
    "\n",
    "\n",
    "#dataloader = torch.utils.data.DataLoader(dataset, batch_size=32, shuffle=True)\n",
    "\n",
    "    \n",
    "    \n",
    "\n",
    "root_dir = './UCSD_Anomaly_Dataset.v1p2/UCSDped1/All_data'\n",
    "num_folders = 70\n",
    "num_images_per_folder = 200\n",
    "image_height = 160\n",
    "image_width = 240\n",
    "\n",
    "dataset = np.zeros((num_folders, num_images_per_folder, image_height, image_width))\n",
    "\n",
    "for i in range(num_folders):\n",
    "    folder_name = str(i+1).zfill(3)\n",
    "    folder_path = os.path.join(root_dir, folder_name)\n",
    "\n",
    "    for j in range(num_images_per_folder):\n",
    "        image_name = str(j+1).zfill(3) + '.tif'\n",
    "        image_path = os.path.join(folder_path, image_name)\n",
    "\n",
    "        image = Image.open(image_path)\n",
    "        image = image.resize((240, 160))\n",
    "        \n",
    "        image = np.array(image)\n",
    "        dataset[i, j, :, :] = image\n",
    "    \n",
    "    \n",
    "    \n",
    "print(dataset.shape)\n",
    "dataset_norm = dataset/255.0\n",
    "\n",
    "#dataset_tensor = torch.tensor(dataset)\n",
    "#print(dataset_tensor.shape)\n",
    "\n",
    "\n",
    "\n",
    "                \n",
    "                \n",
    "            \n",
    "            \n",
    "            \n",
    "            \n",
    "\n",
    "#image_path_train = './UCSD_Anomaly_Dataset.v1p2/UCSDped1/Train_all'\n",
    "#image_paths_train = glob(image_path_train + '/*.tif')\n",
    "#data_transforms = transforms.Compose([transforms.Resize((160, 240)), transforms.ToTensor()])\n",
    "\n",
    "\n",
    "\n",
    "#image_path_test = './UCSD_Anomaly_Dataset.v1p2/UCSDped1/Test_all'\n",
    "#image_paths_test = glob(image_path_test + '/*.tif')\n",
    "\n",
    "#dataset_train = AnomalyDataset(image_paths_train, data_transforms)\n",
    "#dataset_train2 = AnomalyDataset(image_paths_test, data_transforms)\n",
    "\n",
    "\n",
    "\n",
    "\n",
    "#dataset = UCSDAnomalyDataset('./UCSD_Anomaly_Dataset.v1p2/UCSDped1/Train', time_stride=1)\n",
    "#data_train = data.DataLoader(dataset, batch_size=32, shuffle=True)\n",
    "\n"
   ]
  },
  {
   "cell_type": "code",
   "execution_count": 3,
   "id": "48ede3b9",
   "metadata": {
    "scrolled": true
   },
   "outputs": [
    {
     "name": "stdout",
     "output_type": "stream",
     "text": [
      "(70, 200, 1)\n"
     ]
    }
   ],
   "source": [
    "label_start = 34\n",
    "labels = np.zeros((num_folders, num_images_per_folder, 1))\n",
    "\"\"\"    \n",
    "labels = np.zeros(7200, dtype=np.int8)\n",
    "import csv\n",
    "with open('labels.txt', 'r') as file:\n",
    "    for i, line in enumerate(file):\n",
    "        if(\",\" in line):\n",
    "            #part1 = line.rstrip().split(',')[0]\n",
    "            #part2 = line.rstrip().split(',')[1]\n",
    "            start1 = int(line.rstrip().split(',')[0].split(':')[0])-1+(i*200)\n",
    "            end1 = int(line.rstrip().split(',')[0].split(':')[1])+1+(i*200)\n",
    "            \n",
    "            labels[start1:end1] = 1\n",
    "            \n",
    "            start2 = int(line.rstrip().split(',')[1].split(':')[0])-1+(i*200)\n",
    "            end2 = int(line.rstrip().split(',')[1].split(':')[1].replace(';', ''))+1+(i*200)\n",
    "            \n",
    "            labels[start2:end2] = 1\n",
    "            \n",
    "            \n",
    "        else:\n",
    "            start3 = int(line.rstrip().split(';')[0].split(':')[0])-1+(i*200)\n",
    "            end3 = int(line.rstrip().split(';')[0].split(':')[1])+1+(i*200)\n",
    "            #s = slice(*map(int, frames.split(':')))\n",
    "            #print(s)\n",
    "            labels[start3:end3] = 1\n",
    "            \n",
    "\"\"\"\n",
    "            \n",
    "            \n",
    "            \n",
    "with open(\"labels.txt\", \"r\") as f:\n",
    "    for i, line in enumerate(f):\n",
    "        parts = line.strip().split(\";\")\n",
    "        if (\",\" in line):\n",
    "            indices = parts[0].strip().split(\",\")\n",
    "            for index in indices:\n",
    "                start, end = index.strip().split(\":\")\n",
    "                start = int(start) - 1\n",
    "                end = int(end) - 1\n",
    "                \n",
    "                labels[i+label_start, start:end, 0] = 1\n",
    "        else:\n",
    "            start, end = parts[0].strip().split(\":\")\n",
    "            start = int(start) - 1\n",
    "            end = int(end) - 1\n",
    "            \n",
    "            labels[i+label_start, start:end, 0] = 1\n",
    "                \n",
    "                \n",
    "                \n",
    "print(labels.shape)"
   ]
  },
  {
   "cell_type": "code",
   "execution_count": null,
   "id": "8c65e371",
   "metadata": {},
   "outputs": [],
   "source": [
    "def train_AE(model, dataset, max_epochs=20, print_steps=5):\n",
    "    #Training (optimisation) parameters\n",
    "    batch_size=64\n",
    "    learning_rate=1e-3\n",
    "\n",
    "    #Choose mean square error loss\n",
    "    criterion = nn.MSELoss() \n",
    "\n",
    "    #Choose the Adam optimiser\n",
    "    optimizer = torch.optim.Adam(model.parameters(), lr=learning_rate, weight_decay=1e-5)\n",
    "\n",
    "    #Specify how the data will be loaded in batches (with random shuffling)\n",
    "    train_loader = torch.utils.data.DataLoader(dataset, batch_size=batch_size, shuffle=True)\n",
    "\n",
    "    #Storage\n",
    "    outputs = []\n",
    "    \n",
    "    model.to(device)\n",
    "    #train_loader = train_loader.cuda()\n",
    "\n",
    "    #Start training\n",
    "    for epoch in range(max_epochs):\n",
    "        for img in train_loader:\n",
    "            img = img.to(device)\n",
    "            recon = model(img.float())\n",
    "            #print(recon.shape)\n",
    "            loss = criterion(recon, img.to(device))\n",
    "\n",
    "            loss.backward()\n",
    "            optimizer.step()  \n",
    "            optimizer.zero_grad()\n",
    "          \n",
    "        #if ((epoch % print_steps) == 0) or (epoch +1 == max_epochs):\n",
    "        print('Epoch:{}, Loss:{:.4f}'.format(epoch+1, loss.item()))\n",
    "        outputs.append((epoch, img.detach(), recon.detach()),)\n",
    "\n",
    "    return outputs"
   ]
  },
  {
   "cell_type": "code",
   "execution_count": null,
   "id": "8a6d5d73",
   "metadata": {},
   "outputs": [],
   "source": []
  },
  {
   "cell_type": "code",
   "execution_count": 4,
   "id": "1ddd7a1a",
   "metadata": {
    "scrolled": false
   },
   "outputs": [
    {
     "name": "stdout",
     "output_type": "stream",
     "text": [
      "(14, 200, 1)\n",
      "==========PCA TRAIN/TEST==========\n"
     ]
    }
   ],
   "source": [
    "\n",
    "X_train, X_test, y_train, y_test = train_test_split(dataset_norm, labels, test_size=0.2, random_state=42)\n",
    "print(y_test.shape)\n",
    "\n",
    "\n",
    "#img = Image.fromarray(np.uint8(X_train[0][0]))\n",
    "\n",
    "#plt.imshow(img)\n",
    "#plt.show()\n",
    "\n",
    "\n",
    "\n",
    "\n",
    "\n",
    "#cae.to(device)\n",
    "    \n",
    "\n",
    "\n",
    "\n",
    "\n",
    "def do_pca(n_components, train_data, test_data):\n",
    "    pca = PCA(n_components)\n",
    "    \n",
    "    #train_data = train_data.numpy()\n",
    "    num_videos, num_frames, height, width = train_data.shape\n",
    "    data_train = train_data.reshape(num_videos*num_frames, height*width)\n",
    "    print(data_train.shape)\n",
    "    \n",
    "    transformed_train_images = pca.fit_transform(data_train)\n",
    "    reconstructed_train_images = pca.inverse_transform(transformed_train_images)\n",
    "    print(reconstructed_train_images.shape)\n",
    "    \n",
    "    #test_data = test_data.numpy()\n",
    "    num_videos, num_frames, height, width = test_data.shape   \n",
    "    data_test = test_data.reshape(num_videos*num_frames, height*width)\n",
    "    transformed_test_images = pca.transform(data_test)\n",
    "    reconstructed_test_images = pca.inverse_transform(transformed_test_images)\n",
    "    \n",
    "\n",
    "    #print(np.cumsum(pca.explained_variance_ratio_))\n",
    "\n",
    "    plt.plot(np.arange(1,n_components+1), pca.explained_variance_ratio_)\n",
    "    # Plotting using a log scale might show more information\n",
    "    #plt.yscale('log')\n",
    "    plt.ylabel('Explained Variance Ratio')\n",
    "    plt.xlabel('Number of Components')\n",
    "    plt.show()\n",
    "\n",
    "    plt.plot(np.arange(1,n_components+1), np.cumsum(pca.explained_variance_ratio_))\n",
    "    plt.ylabel('Cumulative Explained Variance Ratio')\n",
    "    plt.xlabel('Number of Components')\n",
    "    plt.show()\n",
    "    \n",
    "\n",
    "\n",
    "\n",
    "    reconstruction_error_train = mean_squared_error(data_train, reconstructed_train_images)\n",
    "    print('Train Reconstruction error is ', reconstruction_error_train)\n",
    "    print(\"\\n\\n\")\n",
    "\n",
    "    plt.figure(figsize=(16, 4))\n",
    "    for i in range(8):\n",
    "        # Top row: show original faces\n",
    "        plt.subplot(2,8,i+1)\n",
    "        plt.xticks([])\n",
    "        plt.yticks([])\n",
    "        plt.imshow(data_train[i].reshape(160,240), cmap='Greys_r')\n",
    "        # Bottom row: show reconstructions\n",
    "        plt.subplot(2,8, 8+i+1)\n",
    "        plt.xticks([])\n",
    "        plt.yticks([])\n",
    "        plt.imshow(reconstructed_train_images[i].reshape(160,240), cmap='Greys_r')\n",
    "    plt.show()\n",
    "    \n",
    "    reconstruction_error_test = mean_squared_error(data_test, reconstructed_test_images)\n",
    "    print('Test Reconstruction error is ', reconstruction_error_test)\n",
    "    print(\"\\n\\n\")\n",
    "\n",
    "    plt.figure(figsize=(16, 4))\n",
    "    for i in range(8):\n",
    "        # Top row: show original faces\n",
    "        plt.subplot(2,8,i+1)\n",
    "        plt.xticks([])\n",
    "        plt.yticks([])\n",
    "        plt.imshow(data_test[i].reshape(160,240), cmap='Greys_r')\n",
    "        # Bottom row: show reconstructions\n",
    "        plt.subplot(2,8, 8+i+1)\n",
    "        plt.xticks([])\n",
    "        plt.yticks([])\n",
    "        plt.imshow(reconstructed_test_images[i].reshape(160,240), cmap='Greys_r')\n",
    "    plt.show()\n",
    "    \n",
    "    return transformed_train_images, transformed_test_images\n",
    "\n",
    "    \n",
    "    \n",
    "print(\"==========PCA TRAIN/TEST==========\")\n",
    "#pca_100_train, pca_100_test = do_pca(100, X_train, X_test)\n",
    "#pca_200_train, pca_200_test = do_pca(200, X_train, X_test)\n",
    "#pca_400_train, pca_400_test = do_pca(400, X_train, X_test)\n",
    "#pca_600_train, pca_600_test = do_pca(600, X_train, X_test)\n"
   ]
  },
  {
   "cell_type": "code",
   "execution_count": null,
   "id": "9a1bb91c",
   "metadata": {
    "scrolled": false
   },
   "outputs": [],
   "source": [
    "ae = Autoencoder()\n",
    "cae = ConvAutoencoder()\n",
    "cae2D = ConvAutoencoder2D()\n",
    "\n",
    "#print(ae)\n",
    "#print(\"==============Standard Autoencoder===========\")\n",
    "#outputs = train_AE(ae, dataset, max_epochs=30, print_steps=30)\n",
    "#print(\"\\n\\n\")\n",
    "\n",
    "\"\"\"\n",
    "numImgs=12;\n",
    "for k in range(0, len(outputs), 9):\n",
    "    plt.figure(figsize=(numImgs, 2))\n",
    "    imgs = outputs[k][1].numpy()    \n",
    "    recon = outputs[k][2].numpy()\n",
    "    print('Epoch:', k+1)\n",
    "    for i, item in enumerate(imgs):\n",
    "        if i >= numImgs: break\n",
    "        plt.subplot(2, numImgs, i+1)\n",
    "        plt.xticks([])\n",
    "        plt.yticks([])\n",
    "        plt.imshow(item[0])\n",
    "        \n",
    "    for i, item in enumerate(recon):\n",
    "        if i >= numImgs: break\n",
    "        plt.subplot(2, numImgs, numImgs+i+1)\n",
    "        plt.xticks([])\n",
    "        plt.yticks([])\n",
    "        plt.imshow(item[0])\n",
    "\"\"\"\n",
    "\n",
    "\n",
    "print(\"==============ConvAutoencoder TRAIN==============\")\n",
    "outputs = train_AE(cae, X_train, max_epochs=30, print_steps=30)\n",
    "print(\"\\n\\n\")\n",
    "\n",
    "\n",
    "\n",
    "        \n",
    "        \n",
    "print(\"\\n\\n\")\n",
    "print(\"==============ConvAutoencoder TEST==============\")\n",
    "outputs = train_AE(cae, X_test, max_epochs=30, print_steps=30)\n",
    "print(\"\\n\\n\")\n",
    "\n",
    "\n",
    "\n",
    "        \n",
    "numOut = len(outputs)-1\n",
    "numImgs=12;\n",
    "for k in range(0, len(outputs), 9):\n",
    "    plt.figure(figsize=(numImgs, 2))\n",
    "    imgs = outputs[k][1].cpu().numpy()    \n",
    "    recon = outputs[k][2].cpu().numpy()\n",
    "    print('Epoch:', k+1)\n",
    "    for i, item in enumerate(imgs):\n",
    "        if i >= numImgs: break\n",
    "        plt.subplot(2, numImgs, i+1)\n",
    "        plt.xticks([])\n",
    "        plt.yticks([])\n",
    "        plt.imshow(item[0])\n",
    "        \n",
    "    for i, item in enumerate(recon):\n",
    "        if i >= numImgs: break\n",
    "        plt.subplot(2, numImgs, numImgs+i+1)\n",
    "        plt.xticks([])\n",
    "        plt.yticks([])\n",
    "        plt.imshow(item[0])\n",
    "        \n",
    "\n",
    "plt.figure(figsize=(16, 4))\n",
    "imgs = outputs[numOut][1].cpu().numpy()    \n",
    "recon = outputs[numOut][2].cpu().numpy()\n",
    "\n",
    "for i in range(8):\n",
    "    # Top row: show original faces\n",
    "    plt.subplot(2,8,i+1)\n",
    "    plt.xticks([])\n",
    "    plt.yticks([])\n",
    "    plt.imshow(imgs[i][0].reshape(160,240), cmap='Greys_r')\n",
    "    # Bottom row: show reconstructions\n",
    "    plt.subplot(2,8, 8+i+1)\n",
    "    plt.xticks([])\n",
    "    plt.yticks([])\n",
    "    plt.imshow(recon[i][0].reshape(160,240), cmap='Greys_r')\n",
    "plt.show()\n",
    "        "
   ]
  },
  {
   "cell_type": "code",
   "execution_count": null,
   "id": "c55fc995",
   "metadata": {},
   "outputs": [],
   "source": []
  },
  {
   "cell_type": "code",
   "execution_count": null,
   "id": "04e82334",
   "metadata": {
    "scrolled": false
   },
   "outputs": [],
   "source": [
    "class LinearRegression(torch.nn.Module):\n",
    "\n",
    "    def __init__(self): \n",
    "        super(LinearRegression, self).__init__() \n",
    "        self.linear = torch.nn.Linear(38400, 1)\n",
    "\n",
    "      \n",
    "    def forward(self, x): \n",
    "\n",
    "        predict_y = self.linear(x) \n",
    "        return predict_y\n",
    "    \n"
   ]
  },
  {
   "cell_type": "code",
   "execution_count": null,
   "id": "9f207e6e",
   "metadata": {},
   "outputs": [],
   "source": [
    "def trainLinearModel(model, dataset, labels, max_epochs=20, print_steps=5):\n",
    "    #Training (optimisation) parameters\n",
    "    learning_rate=1e-3\n",
    "\n",
    "    #Choose mean square error loss\n",
    "    criterion = nn.MSELoss() \n",
    "\n",
    "    \n",
    "    #Choose the Adam optimiser\n",
    "    optimizer = torch.optim.Adam(model.parameters(), lr=learning_rate, weight_decay=1e-5)\n",
    "    labels = torch.from_numpy(labels)\n",
    "    images = torch.from_numpy(dataset)\n",
    "    \n",
    "\n",
    "    \n",
    "\n",
    "    #Storage\n",
    "    outputs = []\n",
    "    \n",
    "    model.to(device)\n",
    "\n",
    "    #Start training\n",
    "    for epoch in range(max_epochs):\n",
    "        for img, label in images:\n",
    "            img = img.to(device)\n",
    "            predict = model(img.float())\n",
    "            #print(recon.shape)\n",
    "            loss = criterion(predict, labels)\n",
    "\n",
    "            loss.backward()\n",
    "            optimizer.step()  \n",
    "            optimizer.zero_grad()\n",
    "          \n",
    "        #if ((epoch % print_steps) == 0) or (epoch +1 == max_epochs):\n",
    "        print('Epoch:{}, Loss:{:.4f}'.format(epoch+1, loss.item()))\n",
    "        outputs.append((epoch, img.detach(), recon.detach()),)\n",
    "\n",
    "    return outputs"
   ]
  },
  {
   "cell_type": "code",
   "execution_count": null,
   "id": "7ba1eeae",
   "metadata": {
    "scrolled": true
   },
   "outputs": [],
   "source": [
    "#print(outputs[29][1].cpu().numpy().shape)\n",
    "#print(outputs[29][])\n",
    "#print(pca_400.shape)\n",
    "\n",
    "#linearModel = LinearRegression()\n",
    "\n",
    "#linearOutputs = trainLinearModel(linearModel, pca_400, labels, 50, 50)\n",
    "\n",
    "V, F = y_train.shape[:2]\n",
    "labels_train = np.reshape(y_train, (V*F, 1))\n",
    "\n",
    "V, F = y_test.shape[:2]\n",
    "labels_test = np.reshape(y_test, (V*F, 1))\n",
    "labels_test_log = labels_test.ravel()\n",
    "labels_train_log = labels_train.ravel()\n",
    "\n",
    "linearPCA = RidgeClassifier().fit(pca_400_train, labels_train_log)\n",
    "\n",
    "y_pred = linearPCA.predict(pca_400_test)\n",
    "accuracy = balanced_accuracy_score(labels_test_log, y_pred)\n",
    "print(\"Accuracy of Ridge Classifier: \", accuracy)\n",
    "auc = roc_auc_score(labels_test_log, y_pred)\n",
    "print(\"AUC score for Ridge Classifier: \", auc)\n",
    "print(\"F1 score for Ridge Classfier\", f1_score(labels_test_log, y_pred))\n",
    "\n",
    "#linearPCA.score(pca_400_test, labels_test)\n",
    "\n",
    "\n",
    "clf = LogisticRegression().fit(pca_400_train, labels_train_log)\n",
    "pred = clf.predict(pca_400_test)\n",
    "acc = balanced_accuracy_score(labels_test_log, pred)\n",
    "\n",
    "print(\"Accuracy of Logistic regression: \", acc)\n",
    "auc_log = roc_auc_score(labels_test_log, pred)\n",
    "print(\"AUC score for Logistic regression: \", auc_log)\n",
    "print(\"F1 score for Logistic regression\", f1_score(labels_test_log, pred))\n",
    "\n",
    "\n",
    "\n",
    "    \n",
    "\n",
    "\n",
    "#linearAE = RidgeClassifier().fit(outputs[29][1].cpu().numpy().flatten().reshape(-1, 1), labels)\n",
    "#linearAE.score(outputs[29][1].cpu().numpy(), labels)"
   ]
  },
  {
   "cell_type": "code",
   "execution_count": 68,
   "id": "0d658c67",
   "metadata": {},
   "outputs": [],
   "source": [
    "\n",
    "\n",
    "def softmax(x):\n",
    "    e_x = np.exp(x - np.max(x))\n",
    "    return e_x / e_x.sum(axis=0)\n",
    "\n",
    "def sigmoid(x):\n",
    "    return 1 / (1 + np.exp(-x))\n",
    "    \n",
    "\n",
    "class ESN(BaseEstimator):\n",
    "    def __init__(self, input_size, reservoir_size, output_size, leaking_rate=0.95, spectral_radius=1, input_scaling=1, threshold=0.5, sparsity=0.1, ridge_alpha=0.5, random_seed=75):\n",
    "        np.random.seed(random_seed)\n",
    "        self.input_size = input_size\n",
    "        self.reservoir_size = reservoir_size\n",
    "        self.output_size = output_size\n",
    "\n",
    "        self.W_in = np.random.randn(reservoir_size, input_size)\n",
    "        self.W_res = np.random.randn(reservoir_size, reservoir_size)\n",
    "        #self.W_out = np.random.randn(output_size, reservoir_size)\n",
    "        \n",
    "        self.leaking_rate = leaking_rate\n",
    "        self.spectral_radius = spectral_radius\n",
    "        self.input_scaling = input_scaling\n",
    "        self.threshold = threshold\n",
    "        self.sparsity = sparsity\n",
    "        self.ridge_alpha = ridge_alpha\n",
    "        \n",
    "        e, v = np.linalg.eig(self.W_res)\n",
    "        max_abs = np.max(np.abs(e))\n",
    "        self.W_res = self.W_res/max_abs\n",
    "        M = (np.random.uniform(size=(reservoir_size, reservoir_size)) < self.sparsity) * 1.0\n",
    "        self.W_res *= M\n",
    "        \n",
    "        self.h0 = np.zeros((reservoir_size, 1))\n",
    "\n",
    "        \n",
    "\n",
    "        \n",
    "        \n",
    "        \n",
    "        \n",
    "    def update(self, x):\n",
    "        h = self.h0\n",
    "        T = x.shape[0]\n",
    "        states = np.zeros((T, self.reservoir_size))\n",
    "\n",
    "        for t in range(T):\n",
    "            #print(x[t].reshape(-1, 1).shape)\n",
    "            h = self.leaking_rate * np.tanh(self.spectral_radius * self.W_res @ h + self.input_scaling * self.W_in @ \n",
    "                                                                                 x[t].reshape(-1, 1)) + (1-self.leaking_rate)*h\n",
    "            \n",
    "            states[t] = h.flatten()\n",
    "            \n",
    "        #print(states.shape)\n",
    "        \n",
    "        return states\n",
    "    \n",
    "\n",
    "    def fit(self, X, y):\n",
    "        V, F, D = X.shape\n",
    "        self.W_out = np.random.randn(self.output_size, self.reservoir_size)\n",
    "        states = np.zeros((V, F, self.reservoir_size))\n",
    "        \n",
    "        for v in range(V):\n",
    "            states[v] = self.update(X[v])\n",
    "        \n",
    "        states = states.reshape(V*F, self.reservoir_size)\n",
    "        \n",
    "            \n",
    "        \n",
    "        ridge = Ridge(alpha=self.ridge_alpha)\n",
    "        weights = compute_sample_weight(class_weight='balanced', y=y.flatten())\n",
    "        ridge.fit(states, y.flatten(), sample_weight=weights)\n",
    "        self.W_out = ridge.coef_\n",
    "            \n",
    "            #print(W_out.shape)\n",
    "            #self.W_out = W_out\n",
    "            \n",
    "        #print(self.W_out.shape)\n",
    "            \n",
    "        #return self.W_out\n",
    "            \n",
    "            \n",
    "    \n",
    "    \n",
    "    def predict(self, X):\n",
    "        V, F, D = X.shape\n",
    "        pred = np.zeros((V, F, 1))\n",
    "        probs = np.zeros((V, F, 1))\n",
    "        for v in range(V):\n",
    "            states = self.update(X[v])\n",
    "            \n",
    "            \n",
    "            for f in range(F):\n",
    "                state = states[f]\n",
    "                output = np.dot(state.reshape(-1, 1).T, self.W_out.reshape(self.reservoir_size, -1))\n",
    "                y_prob = sigmoid(output)\n",
    "                pred[v][f] = (y_prob >= self.threshold).astype(int)\n",
    "                prob[v][f] =  y_prob\n",
    "        \n",
    "        return pred, probs\n",
    "            \n",
    "            \n",
    "            #print(states.shape)\n",
    "            #y = states @ self.W_out[v].T\n",
    "            #print(y.shape)\n",
    "            #print(self.W_out.shape)\n",
    "            #print(\"W_out\", self.W_out[v].shape)\n",
    "            #print(\"states\", states.shape)\n",
    "            \n",
    "            #w = self.W_out[v].reshape(self.reservoir_size, 1)\n",
    "            #y_pred[v] = sigmoid(np.sum(w * states.reshape((1, F, self.reservoir_size, 1)), axis=2))\n",
    "\n",
    "            #print(\"New W: \", w.shape)\n",
    "            #w = self.W_out[v].reshape((1, F, self.reservoir_size, 1))\n",
    "            #s = states.reshape((1, F, self.reservoir_size, 1))\n",
    "            #print(\"w\", w.shape)\n",
    "            #print(\"s\", s.shape)\n",
    "            \n",
    "            #y_prob = np.zeros((F, 1))\n",
    "            #y_pred = np.dot(self.W_out, states.T)\n",
    "            #y_prob = softmax(y_pred)\n",
    "            #y_pred_labels = np.argmax(y_prob, axis=1)\n",
    "            #for t in range(F):\n",
    "            #    y_pred = np.dot(self.W_out, states[t])\n",
    "            #    y_prob[t] = sigmoid(y_pred)\n",
    "                \n",
    "            #y_prob = sigmoid(y_pred)\n",
    "            #print(y_prob.T.shape)\n",
    "            #probs[v] = y_prob.reshape(-1, 1)\n",
    "            #print(y_pred[2])\n",
    "            #print(\"y_pred\", y_pred.reshape(-1, 1).shape)\n",
    "            \n",
    "            #y_pred = softmax(self.W_out[v] @ states.T)\n",
    "            #print(y_pred.shape)\n",
    "            #pred[v] = (y_prob.reshape(-1, 1) >= self.threshold).astype(int)\n",
    "            \n",
    "            \n",
    "        #return pred, probs\n",
    "        \n",
    "        \n",
    "        \n",
    "        \n",
    "        \n",
    "        \n",
    "\n",
    "        \n",
    "        \n",
    "\n",
    "    \n",
    "\n",
    "\n",
    "\n"
   ]
  },
  {
   "cell_type": "code",
   "execution_count": null,
   "id": "3a332a4f",
   "metadata": {},
   "outputs": [],
   "source": [
    "\n",
    "\n",
    "param_grid = {'alpha': [0.1, 1, 10, 100]}\n",
    "\n",
    "# Create a Ridge regression object\n",
    "ridge = Ridge()\n",
    "\n",
    "# Create a GridSearchCV object\n",
    "grid_search = GridSearchCV(estimator=ridge, param_grid=param_grid, cv=5)\n",
    "\n",
    "# Fit the GridSearchCV object to the training data\n",
    "grid_search.fit(pca_400_train, labels_train)\n",
    "\n",
    "# Print the best value of the alpha hyperparameter found by GridSearchCV\n",
    "print(\"Best alpha value: \", grid_search.best_params_['alpha'])\n",
    "\n",
    "# Use the best value of alpha to fit the Ridge regression model to the training data\n",
    "best_alpha = grid_search.best_params_['alpha']\n",
    "ridge = Ridge(alpha=best_alpha)\n",
    "ridge.fit(pca_400_train, labels_train)\n",
    "\n",
    "# Predict on the test data using the fitted model\n",
    "y_pred = ridge.predict(pca_400_test)"
   ]
  },
  {
   "cell_type": "code",
   "execution_count": null,
   "id": "3039fe04",
   "metadata": {},
   "outputs": [],
   "source": [
    "vids_frames, dim = pca_400_train.shape\n",
    "vids = int(vids_frames/200)\n",
    "frames = 200\n",
    "data = pca_400_train.reshape(vids, frames, dim)\n",
    "\n",
    "X_train_new, X_val, y_train_new, y_val = train_test_split(data, y_train, test_size=0.25, random_state=42)"
   ]
  },
  {
   "cell_type": "code",
   "execution_count": null,
   "id": "e1867b09",
   "metadata": {},
   "outputs": [],
   "source": [
    "VF, D = pca_400_train.shape\n",
    "V = int(VF/200)\n",
    "F = 200\n",
    "train_data = pca_400_train.reshape(V, F, D)\n",
    "\n",
    "print(train_data.shape)\n",
    "\n",
    "#train_states = None\n",
    "\n",
    "    \n",
    "VF, D = pca_400_test.shape\n",
    "V = int(VF/200)\n",
    "F = 200\n",
    "test_data = pca_400_test.reshape(V, F, D)\n",
    "print(test_data.shape)"
   ]
  },
  {
   "cell_type": "code",
   "execution_count": 6,
   "id": "1421a819",
   "metadata": {
    "scrolled": false
   },
   "outputs": [
    {
     "name": "stdout",
     "output_type": "stream",
     "text": [
      "(11200, 1, 160, 240)\n",
      "(11200, 1)\n",
      "3569.0 0.31866071428571424 0.6813392857142857\n",
      "0 0.3002100225005831 0.6813392857142857 0.5 0.1809632485466344 0.8442857142857143 0.0 0.0\n",
      "1 0.2983265572360584 0.7066964285714286 0.5542542274310678 0.1797019908470767 0.8057142857142857 0.22541853336477247 0.2860892388451443\n",
      "2 0.2964119767504079 0.7405357142857143 0.6583583008638247 0.17850601247378758 0.7860714285714285 0.5146960587842353 0.45594913714804725\n",
      "3 0.29433842056563925 0.7244642857142857 0.6746037705325114 0.17723691303815162 0.765 0.5540462427745665 0.4835164835164836\n",
      "4 0.2920409286660807 0.7050892857142858 0.6769406682325662 0.1759514319045203 0.7528571428571429 0.5643055005935893 0.5\n",
      "5 0.2895399390586785 0.6925892857142857 0.6808178427796634 0.17457229750497 0.7421428571428571 0.5734109775740304 0.5095108695652174\n",
      "6 0.28684330944504055 0.6885714285714286 0.6865943904100891 0.17313203002725328 0.74 0.5822754491017965 0.5315315315315315\n",
      "7 0.2840289920568466 0.686875 0.6917627509180362 0.1717379918055875 0.73 0.5893923428170004 0.5333333333333333\n",
      "8 0.28118130777563366 0.6895535714285714 0.7009620033956991 0.1703940582062517 0.7182142857142857 0.6005743825387708 0.5244122965641952\n",
      "9 0.27832742940102306 0.6925 0.7095375189291999 0.168968137885843 0.7107142857142857 0.6105834464043418 0.5184304399524375\n",
      "10 0.27547411088432583 0.694375 0.7144184188610856 0.16771877131291799 0.7 0.6161264999439274 0.5093457943925234\n",
      "11 0.2726417662841933 0.6976785714285715 0.7196765167106975 0.16647117052759444 0.6892857142857143 0.6219294327824921 0.5005740528128587\n",
      "12 0.2698222090091024 0.7020535714285714 0.7255717349991677 0.16535243232335364 0.6721428571428572 0.6283550506737943 0.48715083798882686\n",
      "13 0.26704108874712673 0.7047321428571428 0.7299237390480696 0.1642424070409366 0.6639285714285714 0.6330855431044047 0.48097076668505234\n",
      "14 0.26426930565919193 0.7082142857142857 0.7331502627919864 0.16331178003123828 0.6582142857142858 0.6365658362989325 0.4767632586112629\n",
      "15 0.2615217300398009 0.7128571428571429 0.7385708902417947 0.16226960771850177 0.6535714285714286 0.6424282855236825 0.4733984799131379\n",
      "16 0.25878729538193773 0.7173214285714286 0.7433384618982921 0.1613067915397031 0.6489285714285714 0.6475957257346394 0.47008086253369274\n",
      "17 0.25608085468411446 0.7209821428571429 0.7475163336465205 0.16037654876708984 0.6446428571428572 0.6521206723811643 0.46705945366898766\n",
      "18 0.25338515053902355 0.7249107142857143 0.7512941876088373 0.15951817056962422 0.6403571428571428 0.6562534865558406 0.4640766365087812\n",
      "19 0.25069453274565084 0.7295535714285715 0.7554470731618926 0.15864652448466846 0.6375 0.660844250363901 0.4621091679915209\n",
      "20 0.24803148289876326 0.7340178571428572 0.7595434873436384 0.15787592051284655 0.6357142857142857 0.6653936875210603 0.46088794926004223\n",
      "21 0.24537293586347783 0.73625 0.761852700119137 0.1570153497159481 0.6317857142857143 0.6679406474820143 0.45822385706778773\n",
      "22 0.24271919658141478 0.7415178571428571 0.7665388142091516 0.15627469069191388 0.6307142857142857 0.6732136810023704 0.45750262329485836\n",
      "23 0.24008838858987605 0.7460714285714286 0.7707753236556776 0.1555583548865148 0.6314285714285715 0.6779891304347826 0.4579831932773109\n",
      "24 0.2374715403254543 0.750625 0.7756084175242047 0.15480139718524047 0.6317857142857143 0.6833692325133204 0.45822385706778773\n",
      "25 0.2348597701638937 0.7554464285714285 0.7807872241343219 0.15411505049892835 0.6303571428571428 0.6891385767790262 0.4572627163083377\n",
      "26 0.23227194217698915 0.7596428571428572 0.7849853638909788 0.15346419039581502 0.6296428571428572 0.6938821924039117 0.45678365636458884\n",
      "27 0.22969998472503253 0.76375 0.7888942622773553 0.15269051917961665 0.6310714285714286 0.698358413132695 0.45774278215223096\n",
      "28 0.22713316418230534 0.7677678571428571 0.7934087959264534 0.15205738507211208 0.6307142857142857 0.7033869312350325 0.45750262329485836\n",
      "29 0.2245767739202295 0.7702678571428572 0.796138294496292 0.15146042459777423 0.6314285714285715 0.7064460924130063 0.4579831932773109\n"
     ]
    }
   ],
   "source": [
    "class CNN(nn.Module):\n",
    "    def __init__(self, hidden_size_1=1000, hidden_size_2=200):\n",
    "        super(CNN, self).__init__()\n",
    "        self.conv1 = nn.Conv2d(1, 16, kernel_size=11, stride=4, padding=5)\n",
    "        self.relu1 = nn.ReLU()\n",
    "        self.conv2 = nn.Conv2d(16, 16, kernel_size=5, stride=4, padding=2)\n",
    "        self.relu2 = nn.ReLU()\n",
    "        self.flatten = nn.Flatten(start_dim=1)\n",
    "        self.fc1 = nn.Linear(16*10*15, hidden_size_1)\n",
    "        self.relu3 = nn.ReLU()\n",
    "        self.fc2 = nn.Linear(hidden_size_1, hidden_size_2)\n",
    "        self.relu4 = nn.ReLU()\n",
    "\n",
    "    def forward(self, x):\n",
    "        x = self.conv1(x)\n",
    "        x = self.relu1(x)\n",
    "        x = self.conv2(x)\n",
    "        x = self.relu2(x)\n",
    "        x = self.flatten(x)\n",
    "        x = self.fc1(x)\n",
    "        hidden = self.relu3(x)\n",
    "        x = self.fc2(hidden)\n",
    "        x = self.relu4(x)\n",
    "        return hidden, x\n",
    "    \n",
    "    \n",
    "\n",
    "\n",
    "    \n",
    "Nf = 200\n",
    "H = 160\n",
    "W = 240\n",
    "batch_size = 200\n",
    "\n",
    "Nv_train = len(X_train)\n",
    "Nv_test = len(X_test)\n",
    "\n",
    "\n",
    "\n",
    "x_train_mean = X_train.mean(axis=0)\n",
    "x_train_nomean = X_train - x_train_mean\n",
    "x_test_nomean = X_test - x_train_mean\n",
    "\n",
    "\n",
    "x_train_nomean = x_train_nomean.reshape(Nv_train*Nf, 1, H, W)\n",
    "y_train = y_train.reshape(Nv_train*Nf, 1)\n",
    "print(x_train_nomean.shape)\n",
    "print(y_train.shape)\n",
    "\n",
    "train_Ntrue = y_train.sum()\n",
    "train_c1_w = 1.0/train_Ntrue\n",
    "train_c0_w = 1.0/(len(y_train) - train_Ntrue)\n",
    "train_c_wtot = train_c1_w + train_c0_w\n",
    "train_c1_w /= train_c_wtot\n",
    "train_c0_w /= train_c_wtot\n",
    "\n",
    "train_c_w = (1-y_train)*train_c0_w + y_train*train_c1_w\n",
    "\n",
    "\n",
    "\n",
    "\n",
    "\n",
    "\n",
    "print(train_Ntrue, train_c0_w, train_c1_w)\n",
    "\n",
    "trainset = TensorDataset(torch.Tensor(x_train_nomean).to(device), torch.Tensor(y_train).to(device), torch.Tensor(train_c_w).to(device))\n",
    "train_dl = DataLoader(trainset, batch_size=batch_size, shuffle=True)\n",
    "\n",
    "x_test_nomean = x_test_nomean.reshape(Nv_test*Nf, 1, H, W)\n",
    "y_test = y_test.reshape(Nv_test*Nf, 1)\n",
    "\n",
    "test_Ntrue = y_test.sum()\n",
    "test_c1_w = 1.0/test_Ntrue\n",
    "test_c0_w = 1.0/(len(y_test) - test_Ntrue)\n",
    "test_c_wtot = test_c0_w + test_c1_w\n",
    "test_c1_w /= test_c_wtot\n",
    "test_c0_w /= test_c_wtot\n",
    "\n",
    "test_c_w = (1-y_test)*test_c0_w + y_test*test_c1_w\n",
    "\n",
    "\n",
    "\n",
    "\n",
    "testset = TensorDataset(torch.Tensor(x_test_nomean).to(device), torch.Tensor(y_test).to(device), torch.Tensor(test_c_w).to(device))\n",
    "test_dl = DataLoader(testset, batch_size=batch_size, shuffle=False)\n",
    "\n",
    "\n",
    "\n",
    "\n",
    "\n",
    "\n",
    "#model = nn.Sequential(\n",
    "#            nn.Conv2d(1, 16, 11, padding=5, stride=4),\n",
    "#            nn.ReLU(),\n",
    "#            nn.Conv2d(16, 16, 5, padding=2, stride=4),\n",
    "#            nn.ReLU(),\n",
    "#            nn.Flatten(start_dim=1),\n",
    "#            nn.Linear(16*10*15, 1000),\n",
    "#            nn.ReLU(),\n",
    "#            nn.Linear(1000, 200),\n",
    "#            nn.ReLU(),\n",
    "#            nn.Linear(200,1),\n",
    "#            nn.Sigmoid()\n",
    "#        )\n",
    "\n",
    "hidden_size_1 = 1000\n",
    "hidden_size_2 = 200\n",
    "model = nn.Sequential(\n",
    "            nn.Flatten(start_dim=1),\n",
    "            nn.Linear(240*160, hidden_size_1),\n",
    "            nn.ReLU(),\n",
    "            nn.Linear(hidden_size_1, hidden_size_2),\n",
    "            nn.ReLU(),\n",
    "            nn.Linear(hidden_size_2, 1),\n",
    "            nn.Sigmoid()\n",
    ")\n",
    "\n",
    "model.to(device)\n",
    "\n",
    "lr = 1e-6\n",
    "weight_decay = 1e-3\n",
    "\n",
    "#loss_criterion = nn.MSELoss() \n",
    "#loss_criterion = nn.BCELoss() \n",
    "#loss_criterion = lambda pred, true, weight: weight*\n",
    "loss_criterion = F.binary_cross_entropy\n",
    "optimiser = torch.optim.AdamW(model.parameters(), lr=lr, weight_decay=weight_decay)\n",
    "\n",
    "Nepochs=30\n",
    "\n",
    "\n",
    "\n",
    "tr_preds = np.zeros((len(train_dl), batch_size, 1))\n",
    "tr_trues = np.zeros((len(train_dl), batch_size, 1))\n",
    "\n",
    "te_preds = np.zeros((len(test_dl), batch_size, 1))\n",
    "te_trues = np.zeros((len(test_dl), batch_size, 1))\n",
    "\n",
    "for n in range(Nepochs):\n",
    "    model.train()\n",
    "    tr_avg_loss = 0.0\n",
    "    tr_avg_acc = 0.0\n",
    "    \n",
    "    for i,batch in enumerate(train_dl):\n",
    "        x, y_true, c_w = batch\n",
    "        x = x.to(device)\n",
    "        y_true = y_true.to(device)\n",
    "        c_w = c_w.to(device)\n",
    "        optimiser.zero_grad()\n",
    "        y = model(x)\n",
    "        loss = loss_criterion(y, y_true, weight=c_w)\n",
    "        pred_class = (y > 0.5)\n",
    "        true_class = (y_true > 0.5)\n",
    "        tr_avg_acc += (pred_class == true_class).sum().item()\n",
    "\n",
    "        tr_preds[i] = pred_class.detach().cpu().numpy()\n",
    "        tr_trues[i] = true_class.detach().cpu().numpy()\n",
    "\n",
    "        tr_avg_loss += loss.item()\n",
    "        loss.backward()\n",
    "        optimiser.step()\n",
    "    tr_avg_loss /= len(train_dl)\n",
    "    tr_avg_acc /= len(train_dl)*batch_size\n",
    "\n",
    "    tr_prec = precision_score(tr_trues.flatten(), tr_preds.flatten(), zero_division=0)\n",
    "    tr_recall = recall_score(tr_trues.flatten(), tr_preds.flatten(), zero_division=0)\n",
    "    tr_f1 = f1_score(tr_trues.flatten(), tr_preds.flatten(), zero_division=0)\n",
    "    tr_bal_acc = balanced_accuracy_score(tr_trues.flatten(), tr_preds.flatten())\n",
    "\n",
    "    model.eval()\n",
    "    te_avg_loss = 0.0\n",
    "    te_avg_acc = 0.0\n",
    "\n",
    "\n",
    "    with torch.no_grad():\n",
    "        for i, batch in enumerate(test_dl):\n",
    "            x, y_true, c_w = batch\n",
    "            y = model(x)\n",
    "            loss = loss_criterion(y, y_true, weight=c_w)\n",
    "            te_avg_loss += loss.item()\n",
    "            pred_class = (y > 0.5)\n",
    "            true_class = (y_true > 0.5)\n",
    "            te_avg_acc += (pred_class == true_class).sum().item()\n",
    "            te_preds[i] = pred_class.detach().cpu().numpy()\n",
    "            te_trues[i] = true_class.detach().cpu().numpy()\n",
    "    te_avg_loss /= len(test_dl)\n",
    "    te_avg_acc /= len(test_dl)*batch_size\n",
    "    \n",
    "    te_prec = precision_score(te_trues.flatten(), te_preds.flatten(), zero_division=0)\n",
    "    te_recall = recall_score(te_trues.flatten(), te_preds.flatten(), zero_division=0)\n",
    "    te_f1 = f1_score(te_trues.flatten(), te_preds.flatten(), zero_division=0)\n",
    "    te_bal_acc = balanced_accuracy_score(te_trues.flatten(), te_preds.flatten())\n",
    "\n",
    "    print(n, tr_avg_loss, tr_avg_acc, tr_bal_acc, te_avg_loss, te_avg_acc, tr_f1, te_f1)\n",
    "    \n",
    "\n",
    "\n",
    "\n",
    "\n"
   ]
  },
  {
   "cell_type": "code",
   "execution_count": 7,
   "id": "735573de",
   "metadata": {},
   "outputs": [
    {
     "name": "stdout",
     "output_type": "stream",
     "text": [
      "torch.Size([11200, 200])\n",
      "[[[-0.04791306  0.08221364  0.09610893 ...  0.07777058  0.20557433\n",
      "    0.02142078]\n",
      "  [-0.0446519   0.09179939  0.10708374 ...  0.08372323  0.21667466\n",
      "    0.02303589]\n",
      "  [-0.04552879  0.10102428  0.11332078 ...  0.09372257  0.21853474\n",
      "    0.01596302]\n",
      "  ...\n",
      "  [ 0.0147739   0.0026508  -0.00182119 ... -0.0159204   0.07068056\n",
      "    0.07757584]\n",
      "  [ 0.00785     0.00594202 -0.00549462 ... -0.01212717  0.07161111\n",
      "    0.08939582]\n",
      "  [-0.00309217  0.00530974 -0.01408747 ... -0.01827993  0.07337344\n",
      "    0.09208953]]\n",
      "\n",
      " [[ 0.09256408  0.00186871  0.03756487 ...  0.01919756 -0.02202162\n",
      "    0.07445326]\n",
      "  [ 0.08517784  0.01048691  0.05644045 ...  0.03189922 -0.00328935\n",
      "    0.06124849]\n",
      "  [ 0.07367271  0.03996683  0.0754344  ...  0.03738303  0.0425359\n",
      "    0.03152732]\n",
      "  ...\n",
      "  [ 0.08620501 -0.0864313   0.00181089 ... -0.0320107  -0.06218306\n",
      "    0.01836212]\n",
      "  [ 0.0890402  -0.0912032   0.00232181 ... -0.04064516 -0.05933046\n",
      "    0.02885289]\n",
      "  [ 0.11064216 -0.10757339  0.00053005 ... -0.04929985 -0.06528173\n",
      "    0.05398834]]\n",
      "\n",
      " [[-0.03790503  0.07914748  0.07500839 ...  0.07637633  0.13842419\n",
      "    0.04717143]\n",
      "  [-0.0354058   0.09587944  0.0953251  ...  0.08596047  0.1430204\n",
      "    0.03898391]\n",
      "  [-0.04167227  0.10781112  0.1052032  ...  0.09095445  0.15267977\n",
      "    0.03969331]\n",
      "  ...\n",
      "  [-0.07004035 -0.0839065  -0.03347634 ... -0.07500522  0.01082702\n",
      "    0.08074392]\n",
      "  [-0.0707012  -0.08702055 -0.03302732 ... -0.06983013  0.01451154\n",
      "    0.07671505]\n",
      "  [-0.06090952 -0.07614493 -0.02657155 ... -0.07256555  0.01638545\n",
      "    0.07706672]]\n",
      "\n",
      " ...\n",
      "\n",
      " [[ 0.12374601  0.23537597  0.2761783  ...  0.19312719  0.3469364\n",
      "    0.14759043]\n",
      "  [ 0.09240782  0.2205544   0.26940945 ...  0.17980832  0.3357812\n",
      "    0.14108646]\n",
      "  [ 0.07221188  0.19552243  0.2585237  ...  0.1595563   0.32297823\n",
      "    0.13363779]\n",
      "  ...\n",
      "  [-0.07308378  0.07489067  0.00741984 ...  0.0292336   0.07802522\n",
      "    0.04978227]\n",
      "  [-0.07828014  0.08391056  0.00213098 ...  0.02178111  0.0778912\n",
      "    0.0563554 ]\n",
      "  [-0.07012808  0.07101226 -0.00098638 ...  0.01203232  0.07021198\n",
      "    0.06259585]]\n",
      "\n",
      " [[ 0.15664104  0.04040703 -0.02568024 ... -0.07081775 -0.17922077\n",
      "    0.12055157]\n",
      "  [ 0.16060165  0.04549518 -0.02278464 ... -0.06335831 -0.18127495\n",
      "    0.12317815]\n",
      "  [ 0.14598338  0.05230921 -0.02116941 ... -0.06404354 -0.18130997\n",
      "    0.11561673]\n",
      "  ...\n",
      "  [ 0.12038696  0.09615698 -0.03663747 ... -0.09548436 -0.17505671\n",
      "    0.11348026]\n",
      "  [ 0.10410898  0.10220776 -0.02773867 ... -0.09058963 -0.16605239\n",
      "    0.10713696]\n",
      "  [ 0.09304009  0.12160158 -0.03270512 ... -0.09154359 -0.15969098\n",
      "    0.09209189]]\n",
      "\n",
      " [[-0.04824094 -0.05628667  0.01384394 ... -0.04081038  0.05250918\n",
      "    0.08472773]\n",
      "  [-0.05305498 -0.0593544   0.01190086 ... -0.04421834  0.0411958\n",
      "    0.08070555]\n",
      "  [-0.05340315 -0.06121416  0.01321052 ... -0.04423039  0.03011561\n",
      "    0.07860912]\n",
      "  ...\n",
      "  [-0.00408532 -0.00330269  0.02590322 ... -0.01051938  0.00259151\n",
      "   -0.01034687]\n",
      "  [-0.00666698 -0.00873839  0.02738021 ... -0.01415304  0.00172787\n",
      "   -0.00701591]\n",
      "  [-0.00872118 -0.00948131  0.02778001 ... -0.01840421  0.00557123\n",
      "   -0.0055431 ]]]\n"
     ]
    }
   ],
   "source": [
    "\n",
    "feature_extractor = nn.Sequential(*list(model.children())[:-3])\n",
    "hidden_representation_train = feature_extractor(torch.Tensor(x_train_nomean).to(device))\n",
    "hidden_representation_test = feature_extractor(torch.Tensor(x_test_nomean).to(device))\n",
    "\n",
    "print(hidden_representation_train.shape)\n",
    "#print(hidden_representation)\n",
    "#print(x_test_nomean.reshape(Nv, Nf, ))\n",
    "\n",
    "\n",
    "esn_input_train = hidden_representation_train.cpu().detach().numpy().reshape(56, 200, 200)\n",
    "esn_input_test = hidden_representation_test.cpu().detach().numpy().reshape(14, 200, 200)\n",
    "\n",
    "y_train = y_train.reshape(56, 200, 1)\n",
    "y_test = y_test.reshape(14, 200, 1)\n",
    "print(esn_input_train)\n"
   ]
  },
  {
   "cell_type": "code",
   "execution_count": 8,
   "id": "c7a27624",
   "metadata": {},
   "outputs": [],
   "source": [
    "#vids_frames, dim = esn_input_train.shape\n",
    "#vids = int(vids_frames/200)\n",
    "#frames = 200\n",
    "#data = esn_input_train.reshape(vids, frames, dim)\n",
    "\n",
    "\n",
    "\n",
    "\n",
    "X_train_opt, X_val, y_train_opt, y_val = train_test_split(esn_input_train, y_train, test_size=0.25, random_state=42)\n",
    "\n",
    "\n",
    "\n"
   ]
  },
  {
   "cell_type": "code",
   "execution_count": 79,
   "id": "1bdd03ae",
   "metadata": {
    "scrolled": false
   },
   "outputs": [
    {
     "name": "stderr",
     "output_type": "stream",
     "text": [
      "\u001b[32m[I 2023-05-03 13:16:27,344]\u001b[0m A new study created in memory with name: no-name-14ecb7fd-f3d5-4b3b-9c0d-160cab87dbc2\u001b[0m\n",
      "\u001b[32m[I 2023-05-03 13:20:15,337]\u001b[0m Trial 0 finished with value: 0.8632132644212578 and parameters: {'spectral_radius': 0.6373942617519326, 'sparsity': 0.19729284767098315, 'leaking_rate': 0.9122088568691156, 'input_scaling': 4.198797911547675, 'threshold': 0.8619350499299513, 'ridge_alpha': 0.6987771456283993}. Best is trial 0 with value: 0.8632132644212578.\u001b[0m\n"
     ]
    },
    {
     "name": "stdout",
     "output_type": "stream",
     "text": [
      "F1:  0.8133333333333332\n",
      "AUC:  0.5\n"
     ]
    },
    {
     "name": "stderr",
     "output_type": "stream",
     "text": [
      "\u001b[32m[I 2023-05-03 13:20:15,830]\u001b[0m Trial 1 finished with value: 0.842524539080473 and parameters: {'spectral_radius': 0.8692753425851014, 'sparsity': 0.142194067712158, 'leaking_rate': 0.9855276533317076, 'input_scaling': 2.695912700140957, 'threshold': 0.5900920268440915, 'ridge_alpha': 0.2952062490741114}. Best is trial 0 with value: 0.8632132644212578.\u001b[0m\n"
     ]
    },
    {
     "name": "stdout",
     "output_type": "stream",
     "text": [
      "F1:  0.8056574122577266\n",
      "AUC:  0.5\n"
     ]
    },
    {
     "name": "stderr",
     "output_type": "stream",
     "text": [
      "\u001b[32m[I 2023-05-03 13:20:16,391]\u001b[0m Trial 7 finished with value: 0.8525087719009199 and parameters: {'spectral_radius': 0.32993794525361864, 'sparsity': 0.190289045565404, 'leaking_rate': 0.8124221271484704, 'input_scaling': 1.4580874635620213, 'threshold': 0.7772607685265944, 'ridge_alpha': 0.3330584550081545}. Best is trial 0 with value: 0.8632132644212578.\u001b[0m\n"
     ]
    },
    {
     "name": "stdout",
     "output_type": "stream",
     "text": [
      "F1:  0.8141941843272548\n",
      "AUC:  0.5\n",
      "F1:  0.7265245043022821\n",
      "AUC:  0.5\n"
     ]
    },
    {
     "name": "stderr",
     "output_type": "stream",
     "text": [
      "\u001b[32m[I 2023-05-03 13:20:16,572]\u001b[0m Trial 6 finished with value: 0.7823807946856203 and parameters: {'spectral_radius': 0.39850458119717314, 'sparsity': 0.006218631327405522, 'leaking_rate': 0.8527895347300826, 'input_scaling': 4.484762118257309, 'threshold': 0.965645801344246, 'ridge_alpha': 0.976590050211942}. Best is trial 0 with value: 0.8632132644212578.\u001b[0m\n",
      "\u001b[32m[I 2023-05-03 13:20:16,689]\u001b[0m Trial 11 finished with value: 0.6194843017435063 and parameters: {'spectral_radius': 0.8412004634314388, 'sparsity': 0.15941198301030968, 'leaking_rate': 0.8376815217164002, 'input_scaling': 0.3757672254029404, 'threshold': 0.8740232821340421, 'ridge_alpha': 0.15375401589832235}. Best is trial 0 with value: 0.8632132644212578.\u001b[0m\n",
      "\u001b[32m[I 2023-05-03 13:20:16,781]\u001b[0m Trial 5 finished with value: 0.8481537132504169 and parameters: {'spectral_radius': 0.36707246701591756, 'sparsity': 0.18944020369425452, 'leaking_rate': 0.8161963492667936, 'input_scaling': 1.466700939367437, 'threshold': 0.6858087212333255, 'ridge_alpha': 0.29054926452512836}. Best is trial 0 with value: 0.8632132644212578.\u001b[0m\n",
      "\u001b[32m[I 2023-05-03 13:20:16,837]\u001b[0m Trial 9 finished with value: 0.8123266283004122 and parameters: {'spectral_radius': 0.8806062329799142, 'sparsity': 0.003948845311544558, 'leaking_rate': 0.8485498293766146, 'input_scaling': 0.5267141513929173, 'threshold': 0.42765576191174964, 'ridge_alpha': 0.8327532058263166}. Best is trial 0 with value: 0.8632132644212578.\u001b[0m\n"
     ]
    },
    {
     "name": "stdout",
     "output_type": "stream",
     "text": [
      "F1:  0.3861852433281004\n",
      "AUC:  0.5\n",
      "F1:  0.8093578894972623\n",
      "AUC:  0.5\n",
      "F1:  0.7681498829039812\n",
      "AUC:  0.5\n"
     ]
    },
    {
     "name": "stderr",
     "output_type": "stream",
     "text": [
      "\u001b[32m[I 2023-05-03 13:20:16,987]\u001b[0m Trial 3 finished with value: 0.8175581905582548 and parameters: {'spectral_radius': 0.6560416920055947, 'sparsity': 0.19492299835912708, 'leaking_rate': 0.8303415000051678, 'input_scaling': 3.2079051960832534, 'threshold': 0.9171994856964949, 'ridge_alpha': 0.3257663384060905}. Best is trial 0 with value: 0.8632132644212578.\u001b[0m\n"
     ]
    },
    {
     "name": "stdout",
     "output_type": "stream",
     "text": [
      "F1:  0.7661290322580646\n",
      "AUC:  0.5\n"
     ]
    },
    {
     "name": "stderr",
     "output_type": "stream",
     "text": [
      "\u001b[32m[I 2023-05-03 13:20:17,247]\u001b[0m Trial 4 finished with value: 0.8350113764237006 and parameters: {'spectral_radius': 0.21130629104405185, 'sparsity': 0.1810761552418575, 'leaking_rate': 0.8820600175208018, 'input_scaling': 2.9433995384762808, 'threshold': 0.608344605333872, 'ridge_alpha': 0.7975195517186691}. Best is trial 0 with value: 0.8632132644212578.\u001b[0m\n",
      "\u001b[32m[I 2023-05-03 13:20:17,339]\u001b[0m Trial 2 finished with value: 0.7866987831647602 and parameters: {'spectral_radius': 0.14434226673838202, 'sparsity': 0.15262090282383114, 'leaking_rate': 0.846308498332205, 'input_scaling': 0.9319704529869185, 'threshold': 0.692179128951286, 'ridge_alpha': 0.9733193607220867}. Best is trial 0 with value: 0.8632132644212578.\u001b[0m\n",
      "\u001b[32m[I 2023-05-03 13:20:17,409]\u001b[0m Trial 8 finished with value: 0.8584806392105756 and parameters: {'spectral_radius': 0.7142984127177026, 'sparsity': 0.029777521083458103, 'leaking_rate': 0.8216575007315824, 'input_scaling': 3.7265447174260022, 'threshold': 0.9206876135362984, 'ridge_alpha': 0.14085113619726583}. Best is trial 0 with value: 0.8632132644212578.\u001b[0m\n"
     ]
    },
    {
     "name": "stdout",
     "output_type": "stream",
     "text": [
      "F1:  0.7940573770491803\n",
      "AUC:  0.5\n",
      "F1:  0.7290930506478209\n",
      "AUC:  0.5\n",
      "F1:  0.8112798264642082\n",
      "AUC:  0.5\n"
     ]
    },
    {
     "name": "stderr",
     "output_type": "stream",
     "text": [
      "\u001b[32m[I 2023-05-03 13:20:17,485]\u001b[0m Trial 10 finished with value: 0.8049414263833078 and parameters: {'spectral_radius': 0.42382779862622455, 'sparsity': 0.05720012702630215, 'leaking_rate': 0.8327880810404309, 'input_scaling': 3.265459541730842, 'threshold': 0.7712776375855912, 'ridge_alpha': 0.14949001130479414}. Best is trial 0 with value: 0.8632132644212578.\u001b[0m\n"
     ]
    },
    {
     "name": "stdout",
     "output_type": "stream",
     "text": [
      "F1:  0.7489394523717702\n",
      "AUC:  0.5\n"
     ]
    },
    {
     "name": "stderr",
     "output_type": "stream",
     "text": [
      "\u001b[32m[I 2023-05-03 13:23:55,432]\u001b[0m Trial 12 finished with value: 0.8176290357746375 and parameters: {'spectral_radius': 0.7820003340207652, 'sparsity': 0.058038550097376, 'leaking_rate': 0.8659520941790202, 'input_scaling': 3.27698842574189, 'threshold': 0.9455156028836063, 'ridge_alpha': 0.8645676918486269}. Best is trial 0 with value: 0.8632132644212578.\u001b[0m\n"
     ]
    },
    {
     "name": "stdout",
     "output_type": "stream",
     "text": [
      "F1:  0.7618308766485647\n",
      "AUC:  0.5\n"
     ]
    },
    {
     "name": "stderr",
     "output_type": "stream",
     "text": [
      "\u001b[32m[I 2023-05-03 13:23:59,832]\u001b[0m Trial 13 finished with value: 0.5776625581933041 and parameters: {'spectral_radius': 0.06311548394304445, 'sparsity': 0.11051916000484147, 'leaking_rate': 0.944470184254929, 'input_scaling': 1.1336501168300868, 'threshold': 0.49981520901095094, 'ridge_alpha': 0.1504438938755373}. Best is trial 0 with value: 0.8632132644212578.\u001b[0m\n"
     ]
    },
    {
     "name": "stdout",
     "output_type": "stream",
     "text": [
      "F1:  0.28384991843393154\n",
      "AUC:  0.5\n"
     ]
    },
    {
     "name": "stderr",
     "output_type": "stream",
     "text": [
      "\u001b[32m[I 2023-05-03 13:24:01,203]\u001b[0m Trial 14 finished with value: 0.8379959371092186 and parameters: {'spectral_radius': 0.4549943916856435, 'sparsity': 0.04535026849431339, 'leaking_rate': 0.8911879461129684, 'input_scaling': 2.5962346778382788, 'threshold': 0.49316327475809163, 'ridge_alpha': 0.38405240102044547}. Best is trial 0 with value: 0.8632132644212578.\u001b[0m\n"
     ]
    },
    {
     "name": "stdout",
     "output_type": "stream",
     "text": [
      "F1:  0.7933491686460807\n",
      "AUC:  0.5\n"
     ]
    },
    {
     "name": "stderr",
     "output_type": "stream",
     "text": [
      "\u001b[32m[I 2023-05-03 13:24:02,506]\u001b[0m Trial 17 finished with value: 0.8220922844067482 and parameters: {'spectral_radius': 0.719596091346725, 'sparsity': 0.03511504165342274, 'leaking_rate': 0.8070692130272735, 'input_scaling': 0.9870083072415478, 'threshold': 0.7788146438636739, 'ridge_alpha': 0.5252910476746583}. Best is trial 0 with value: 0.8632132644212578.\u001b[0m\n",
      "\u001b[32m[I 2023-05-03 13:24:02,617]\u001b[0m Trial 15 finished with value: 0.6134371957156768 and parameters: {'spectral_radius': 0.7552156421049481, 'sparsity': 0.12934486793994773, 'leaking_rate': 0.950109304079369, 'input_scaling': 0.22180000884930298, 'threshold': 0.8697606889418783, 'ridge_alpha': 0.48928377078084057}. Best is trial 0 with value: 0.8632132644212578.\u001b[0m\n"
     ]
    },
    {
     "name": "stdout",
     "output_type": "stream",
     "text": [
      "F1:  0.7763157894736841\n",
      "AUC:  0.5\n",
      "F1:  0.3698412698412698\n",
      "AUC:  0.5\n"
     ]
    },
    {
     "name": "stderr",
     "output_type": "stream",
     "text": [
      "\u001b[32m[I 2023-05-03 13:24:02,834]\u001b[0m Trial 19 finished with value: 0.7481963302177914 and parameters: {'spectral_radius': 0.8383334143431574, 'sparsity': 0.059874133808145324, 'leaking_rate': 0.8714996690358041, 'input_scaling': 3.8338918191271967, 'threshold': 0.9836757587048172, 'ridge_alpha': 0.18890901385684092}. Best is trial 0 with value: 0.8632132644212578.\u001b[0m\n",
      "\u001b[32m[I 2023-05-03 13:24:02,868]\u001b[0m Trial 16 finished with value: 0.8418926986041295 and parameters: {'spectral_radius': 0.7849776277924253, 'sparsity': 0.002956093113817948, 'leaking_rate': 0.8381221535896959, 'input_scaling': 2.569005250863646, 'threshold': 0.4708843217923257, 'ridge_alpha': 0.31058136239884604}. Best is trial 0 with value: 0.8632132644212578.\u001b[0m\n"
     ]
    },
    {
     "name": "stdout",
     "output_type": "stream",
     "text": [
      "F1:  0.7908937605396289\n",
      "F1:  0.6964900206469374\n",
      "AUC:  0.5\n",
      "AUC:  0.5\n",
      "F1:  0.6726618705035972\n"
     ]
    },
    {
     "name": "stderr",
     "output_type": "stream",
     "text": [
      "\u001b[32m[I 2023-05-03 13:24:03,046]\u001b[0m Trial 18 finished with value: 0.750564976870959 and parameters: {'spectral_radius': 0.41954393084074404, 'sparsity': 0.13094843890624572, 'leaking_rate': 0.8683124695709236, 'input_scaling': 2.1161744394560587, 'threshold': 0.4084960279993561, 'ridge_alpha': 0.8547483329887637}. Best is trial 0 with value: 0.8632132644212578.\u001b[0m\n",
      "\u001b[32m[I 2023-05-03 13:24:03,128]\u001b[0m Trial 20 finished with value: 0.8134988694970704 and parameters: {'spectral_radius': 0.4374801121511359, 'sparsity': 0.17765458179951776, 'leaking_rate': 0.8027824359768694, 'input_scaling': 2.06341685536906, 'threshold': 0.7279429379835198, 'ridge_alpha': 0.5399226311730563}. Best is trial 0 with value: 0.8632132644212578.\u001b[0m\n",
      "\u001b[32m[I 2023-05-03 13:24:03,205]\u001b[0m Trial 23 finished with value: 0.8524821362963109 and parameters: {'spectral_radius': 0.6380245158850204, 'sparsity': 0.10699344901714218, 'leaking_rate': 0.914078457700603, 'input_scaling': 4.529501486641631, 'threshold': 0.9977453953945074, 'ridge_alpha': 0.005892380969596156}. Best is trial 0 with value: 0.8632132644212578.\u001b[0m\n"
     ]
    },
    {
     "name": "stdout",
     "output_type": "stream",
     "text": [
      "AUC:  0.5\n",
      "F1:  0.7637069383794275\n",
      "AUC:  0.5\n",
      "F1:  0.8137254901960784\n",
      "AUC:  0.5\n"
     ]
    },
    {
     "name": "stderr",
     "output_type": "stream",
     "text": [
      "\u001b[32m[I 2023-05-03 13:24:03,452]\u001b[0m Trial 21 finished with value: 0.8720170182291881 and parameters: {'spectral_radius': 0.582580776094859, 'sparsity': 0.10558316037187876, 'leaking_rate': 0.9275290500432662, 'input_scaling': 4.750102456078395, 'threshold': 0.8338279113829078, 'ridge_alpha': 0.5693248571805207}. Best is trial 21 with value: 0.8720170182291881.\u001b[0m\n"
     ]
    },
    {
     "name": "stdout",
     "output_type": "stream",
     "text": [
      "F1:  0.8285334514842712\n",
      "AUC:  0.5\n"
     ]
    },
    {
     "name": "stderr",
     "output_type": "stream",
     "text": [
      "\u001b[32m[I 2023-05-03 13:24:03,713]\u001b[0m Trial 22 finished with value: 0.8473996785055065 and parameters: {'spectral_radius': 0.6090523356416401, 'sparsity': 0.07478656288052733, 'leaking_rate': 0.9181883621848833, 'input_scaling': 4.321318922431999, 'threshold': 0.986698193423853, 'ridge_alpha': 0.052861471934670404}. Best is trial 21 with value: 0.8720170182291881.\u001b[0m\n"
     ]
    },
    {
     "name": "stdout",
     "output_type": "stream",
     "text": [
      "F1:  0.7960116327378479\n",
      "AUC:  0.5\n"
     ]
    },
    {
     "name": "stderr",
     "output_type": "stream",
     "text": [
      "\u001b[32m[I 2023-05-03 13:27:36,502]\u001b[0m Trial 24 finished with value: 0.5571970776622837 and parameters: {'spectral_radius': 0.6408260882568606, 'sparsity': 0.1210071919493445, 'leaking_rate': 0.9067216077456218, 'input_scaling': 4.497299183717589, 'threshold': 0.848471918238514, 'ridge_alpha': 0.013476630580135956}. Best is trial 21 with value: 0.8720170182291881.\u001b[0m\n"
     ]
    },
    {
     "name": "stdout",
     "output_type": "stream",
     "text": [
      "F1:  0.5663716814159292\n",
      "AUC:  0.5\n"
     ]
    },
    {
     "name": "stderr",
     "output_type": "stream",
     "text": [
      "\u001b[32m[I 2023-05-03 13:27:42,247]\u001b[0m Trial 25 finished with value: 0.8531307269982333 and parameters: {'spectral_radius': 0.5994155516719739, 'sparsity': 0.10899223923712435, 'leaking_rate': 0.9065027477449913, 'input_scaling': 4.402759302077063, 'threshold': 0.8526186060371946, 'ridge_alpha': 0.5947455517769087}. Best is trial 21 with value: 0.8720170182291881.\u001b[0m\n"
     ]
    },
    {
     "name": "stdout",
     "output_type": "stream",
     "text": [
      "F1:  0.8075201432408238\n",
      "AUC:  0.5\n"
     ]
    },
    {
     "name": "stderr",
     "output_type": "stream",
     "text": [
      "\u001b[32m[I 2023-05-03 13:27:42,808]\u001b[0m Trial 26 finished with value: 0.8583125877670631 and parameters: {'spectral_radius': 0.6151978082552426, 'sparsity': 0.11822483846081085, 'leaking_rate': 0.9137314396927924, 'input_scaling': 4.238068990969113, 'threshold': 0.852655464349705, 'ridge_alpha': 0.0042107275796617605}. Best is trial 21 with value: 0.8720170182291881.\u001b[0m\n"
     ]
    },
    {
     "name": "stdout",
     "output_type": "stream",
     "text": [
      "F1:  0.8061763510767981\n",
      "AUC:  0.5\n"
     ]
    },
    {
     "name": "stderr",
     "output_type": "stream",
     "text": [
      "\u001b[32m[I 2023-05-03 13:27:48,107]\u001b[0m Trial 27 finished with value: 0.562760074711498 and parameters: {'spectral_radius': 0.5617990684497687, 'sparsity': 0.0963530727130819, 'leaking_rate': 0.9158385614021597, 'input_scaling': 4.349447152274873, 'threshold': 0.8681714196306589, 'ridge_alpha': 0.01113557996076045}. Best is trial 21 with value: 0.8720170182291881.\u001b[0m\n"
     ]
    },
    {
     "name": "stdout",
     "output_type": "stream",
     "text": [
      "F1:  0.5696026674076133\n",
      "AUC:  0.5\n"
     ]
    },
    {
     "name": "stderr",
     "output_type": "stream",
     "text": [
      "\u001b[32m[I 2023-05-03 13:27:49,204]\u001b[0m Trial 28 finished with value: 0.8720197641678076 and parameters: {'spectral_radius': 0.9941239852497243, 'sparsity': 0.08925374325990726, 'leaking_rate': 0.9116008319811391, 'input_scaling': 4.184586840054515, 'threshold': 0.9664846410940798, 'ridge_alpha': 0.010865619013256639}. Best is trial 28 with value: 0.8720197641678076.\u001b[0m\n"
     ]
    },
    {
     "name": "stdout",
     "output_type": "stream",
     "text": [
      "F1:  0.8298158958239784\n",
      "AUC:  0.5\n"
     ]
    },
    {
     "name": "stderr",
     "output_type": "stream",
     "text": [
      "\u001b[32m[I 2023-05-03 13:27:49,741]\u001b[0m Trial 33 finished with value: 0.7662448355759414 and parameters: {'spectral_radius': 0.9755049894070238, 'sparsity': 0.19749971322181287, 'leaking_rate': 0.8186868390949609, 'input_scaling': 4.857022626983952, 'threshold': 0.8426837793973264, 'ridge_alpha': 0.6725987206496222}. Best is trial 28 with value: 0.8720197641678076.\u001b[0m\n"
     ]
    },
    {
     "name": "stdout",
     "output_type": "stream",
     "text": [
      "F1:  0.7121745249824067\n",
      "AUC:  0.5\n"
     ]
    },
    {
     "name": "stderr",
     "output_type": "stream",
     "text": [
      "\u001b[32m[I 2023-05-03 13:27:50,261]\u001b[0m Trial 31 finished with value: 0.7933760821057614 and parameters: {'spectral_radius': 0.9952221362075948, 'sparsity': 0.09659019840023537, 'leaking_rate': 0.9104006954035061, 'input_scaling': 4.863942681100188, 'threshold': 0.8561985743584513, 'ridge_alpha': 0.048662487584518646}. Best is trial 28 with value: 0.8720197641678076.\u001b[0m\n",
      "\u001b[32m[I 2023-05-03 13:27:50,442]\u001b[0m Trial 29 finished with value: 0.8698941330824643 and parameters: {'spectral_radius': 0.6184684708121541, 'sparsity': 0.08189816689919853, 'leaking_rate': 0.9069505867990731, 'input_scaling': 4.7249561187287785, 'threshold': 0.8594213382681528, 'ridge_alpha': 0.6509329650617375}. Best is trial 28 with value: 0.8720197641678076.\u001b[0m\n"
     ]
    },
    {
     "name": "stdout",
     "output_type": "stream",
     "text": [
      "F1:  0.7389162561576355\n",
      "AUC:  0.5\n",
      "F1:  0.8280542986425339\n",
      "AUC:  0.5\n"
     ]
    },
    {
     "name": "stderr",
     "output_type": "stream",
     "text": [
      "\u001b[32m[I 2023-05-03 13:27:50,782]\u001b[0m Trial 30 finished with value: 0.824955749199147 and parameters: {'spectral_radius': 0.6113959425758875, 'sparsity': 0.08758491923200387, 'leaking_rate': 0.9002737272641157, 'input_scaling': 4.871236497263792, 'threshold': 0.8849128143295594, 'ridge_alpha': 0.0012286239418001776}. Best is trial 28 with value: 0.8720197641678076.\u001b[0m\n",
      "\u001b[32m[I 2023-05-03 13:27:50,952]\u001b[0m Trial 35 finished with value: 0.7980134232463475 and parameters: {'spectral_radius': 0.9857279700474965, 'sparsity': 0.0929953605153589, 'leaking_rate': 0.9109702564101642, 'input_scaling': 4.752130574041215, 'threshold': 0.8675193984320418, 'ridge_alpha': 0.6258358372971071}. Best is trial 28 with value: 0.8720197641678076.\u001b[0m\n"
     ]
    },
    {
     "name": "stdout",
     "output_type": "stream",
     "text": [
      "F1:  0.7687595712098009\n",
      "AUC:  0.5\n",
      "F1:  0.7417070443533359\n",
      "F1:  0.5839749073282008\n",
      "AUC:  0.5\n"
     ]
    },
    {
     "name": "stderr",
     "output_type": "stream",
     "text": [
      "\u001b[32m[I 2023-05-03 13:27:50,965]\u001b[0m Trial 32 finished with value: 0.5879359383503828 and parameters: {'spectral_radius': 0.59436422254837, 'sparsity': 0.199210546030605, 'leaking_rate': 0.9071758793186968, 'input_scaling': 4.989181854378169, 'threshold': 0.8360235892055264, 'ridge_alpha': 0.003944007613045031}. Best is trial 28 with value: 0.8720197641678076.\u001b[0m\n",
      "\u001b[32m[I 2023-05-03 13:27:51,062]\u001b[0m Trial 34 finished with value: 0.8546050214430347 and parameters: {'spectral_radius': 0.5691758079387473, 'sparsity': 0.08070823047181588, 'leaking_rate': 0.9086935607043971, 'input_scaling': 4.959652617994424, 'threshold': 0.8560311920487875, 'ridge_alpha': 0.6764525374436545}. Best is trial 28 with value: 0.8720197641678076.\u001b[0m\n"
     ]
    },
    {
     "name": "stdout",
     "output_type": "stream",
     "text": [
      "AUC:  0.5\n",
      "F1:  0.8145663632007667\n",
      "AUC:  0.5\n"
     ]
    },
    {
     "name": "stderr",
     "output_type": "stream",
     "text": [
      "\u001b[32m[I 2023-05-03 13:31:19,675]\u001b[0m Trial 36 finished with value: 0.8628118081950891 and parameters: {'spectral_radius': 0.9511018924821149, 'sparsity': 0.08813733230938145, 'leaking_rate': 0.931986773509779, 'input_scaling': 4.961876785849363, 'threshold': 0.9140037351846519, 'ridge_alpha': 0.6437894662949661}. Best is trial 28 with value: 0.8720197641678076.\u001b[0m\n"
     ]
    },
    {
     "name": "stdout",
     "output_type": "stream",
     "text": [
      "F1:  0.816131830008673\n",
      "AUC:  0.5\n"
     ]
    },
    {
     "name": "stderr",
     "output_type": "stream",
     "text": [
      "\u001b[32m[I 2023-05-03 13:31:25,616]\u001b[0m Trial 37 finished with value: 0.8631525791777672 and parameters: {'spectral_radius': 0.5580543127276896, 'sparsity': 0.08374207965342047, 'leaking_rate': 0.930886119201449, 'input_scaling': 4.964310247136525, 'threshold': 0.9192068394581433, 'ridge_alpha': 0.6585986911444831}. Best is trial 28 with value: 0.8720197641678076.\u001b[0m\n"
     ]
    },
    {
     "name": "stdout",
     "output_type": "stream",
     "text": [
      "F1:  0.8196131354026092\n",
      "AUC:  0.5\n"
     ]
    },
    {
     "name": "stderr",
     "output_type": "stream",
     "text": [
      "\u001b[32m[I 2023-05-03 13:31:26,509]\u001b[0m Trial 38 finished with value: 0.8722751364594197 and parameters: {'spectral_radius': 0.5215203845623011, 'sparsity': 0.08860864301501147, 'leaking_rate': 0.890752732058367, 'input_scaling': 4.919175568058266, 'threshold': 0.9219100448194322, 'ridge_alpha': 0.6669484997770273}. Best is trial 38 with value: 0.8722751364594197.\u001b[0m\n"
     ]
    },
    {
     "name": "stdout",
     "output_type": "stream",
     "text": [
      "F1:  0.829682610639249\n",
      "AUC:  0.5\n"
     ]
    },
    {
     "name": "stderr",
     "output_type": "stream",
     "text": [
      "\u001b[32m[I 2023-05-03 13:31:32,123]\u001b[0m Trial 39 finished with value: 0.7919635712798985 and parameters: {'spectral_radius': 0.9432973796650557, 'sparsity': 0.08996048697983958, 'leaking_rate': 0.8861558536442261, 'input_scaling': 3.8249653091139706, 'threshold': 0.7979141538593864, 'ridge_alpha': 0.6349286682019801}. Best is trial 38 with value: 0.8722751364594197.\u001b[0m\n"
     ]
    },
    {
     "name": "stdout",
     "output_type": "stream",
     "text": [
      "F1:  0.7358280844757317\n",
      "AUC:  0.5\n"
     ]
    },
    {
     "name": "stderr",
     "output_type": "stream",
     "text": [
      "\u001b[32m[I 2023-05-03 13:31:34,157]\u001b[0m Trial 40 finished with value: 0.8484211676719549 and parameters: {'spectral_radius': 0.9483813542657915, 'sparsity': 0.0948426100552138, 'leaking_rate': 0.9315059052545881, 'input_scaling': 4.897555052300501, 'threshold': 0.9294649026054753, 'ridge_alpha': 0.6577060218645857}. Best is trial 38 with value: 0.8722751364594197.\u001b[0m\n"
     ]
    },
    {
     "name": "stdout",
     "output_type": "stream",
     "text": [
      "F1:  0.7960768287699224\n",
      "AUC:  0.5\n"
     ]
    },
    {
     "name": "stderr",
     "output_type": "stream",
     "text": [
      "\u001b[32m[I 2023-05-03 13:31:37,118]\u001b[0m Trial 41 finished with value: 0.846746419707931 and parameters: {'spectral_radius': 0.5397021252583324, 'sparsity': 0.08619409077402361, 'leaking_rate': 0.929761349178498, 'input_scaling': 4.963935607432397, 'threshold': 0.8993960459056727, 'ridge_alpha': 0.696054381428907}. Best is trial 38 with value: 0.8722751364594197.\u001b[0m\n"
     ]
    },
    {
     "name": "stdout",
     "output_type": "stream",
     "text": [
      "F1:  0.8084677419354839\n",
      "AUC:  0.5\n"
     ]
    },
    {
     "name": "stderr",
     "output_type": "stream",
     "text": [
      "\u001b[32m[I 2023-05-03 13:31:38,522]\u001b[0m Trial 43 finished with value: 0.8007294311348799 and parameters: {'spectral_radius': 0.5256971290136832, 'sparsity': 0.1510964542513936, 'leaking_rate': 0.9323319574859423, 'input_scaling': 4.930681581846624, 'threshold': 0.9373537511251568, 'ridge_alpha': 0.6654582104195376}. Best is trial 38 with value: 0.8722751364594197.\u001b[0m\n",
      "\u001b[32m[I 2023-05-03 13:31:38,561]\u001b[0m Trial 42 finished with value: 0.7987021046521143 and parameters: {'spectral_radius': 0.5235245018212841, 'sparsity': 0.08552201710776652, 'leaking_rate': 0.9301354700572856, 'input_scaling': 3.852292001189321, 'threshold': 0.92233254802038, 'ridge_alpha': 0.430553415372169}. Best is trial 38 with value: 0.8722751364594197.\u001b[0m\n"
     ]
    },
    {
     "name": "stdout",
     "output_type": "stream",
     "text": [
      "F1:  0.7491891891891893\n",
      "AUC:  0.5\n",
      "F1:  0.7461415646620543\n",
      "AUC:  0.5\n"
     ]
    },
    {
     "name": "stderr",
     "output_type": "stream",
     "text": [
      "\u001b[32m[I 2023-05-03 13:31:39,284]\u001b[0m Trial 44 finished with value: 0.8053958792248326 and parameters: {'spectral_radius': 0.5319756159259726, 'sparsity': 0.14615701016799704, 'leaking_rate': 0.9310878850591537, 'input_scaling': 4.9854254017094926, 'threshold': 0.9302770925611678, 'ridge_alpha': 0.7122464043675539}. Best is trial 38 with value: 0.8722751364594197.\u001b[0m\n"
     ]
    },
    {
     "name": "stdout",
     "output_type": "stream",
     "text": [
      "F1:  0.7560175054704595\n",
      "AUC:  0.5\n"
     ]
    },
    {
     "name": "stderr",
     "output_type": "stream",
     "text": [
      "\u001b[32m[I 2023-05-03 13:31:39,876]\u001b[0m Trial 47 finished with value: 0.7867679808179713 and parameters: {'spectral_radius': 0.5252294990334884, 'sparsity': 0.15552792620265887, 'leaking_rate': 0.9284932410661425, 'input_scaling': 4.065162668341793, 'threshold': 0.9453633930498209, 'ridge_alpha': 0.742986825532206}. Best is trial 38 with value: 0.8722751364594197.\u001b[0m\n",
      "\u001b[32m[I 2023-05-03 13:31:40,041]\u001b[0m Trial 46 finished with value: 0.8155594218371318 and parameters: {'spectral_radius': 0.5068398488386997, 'sparsity': 0.15142684935549294, 'leaking_rate': 0.9327700773228026, 'input_scaling': 4.051591356687249, 'threshold': 0.9253501585337923, 'ridge_alpha': 0.7422023800961488}. Best is trial 38 with value: 0.8722751364594197.\u001b[0m\n"
     ]
    },
    {
     "name": "stdout",
     "output_type": "stream",
     "text": [
      "F1:  0.7307398932112891\n",
      "AUC:  0.5\n",
      "F1:  0.7604623355918693\n",
      "AUC:  0.5\n"
     ]
    },
    {
     "name": "stderr",
     "output_type": "stream",
     "text": [
      "\u001b[32m[I 2023-05-03 13:31:40,170]\u001b[0m Trial 45 finished with value: 0.8507368177097664 and parameters: {'spectral_radius': 0.5295699967215677, 'sparsity': 0.08026914001684876, 'leaking_rate': 0.9287445537481855, 'input_scaling': 3.989628104235252, 'threshold': 0.9178257789203849, 'ridge_alpha': 0.7274755651807301}. Best is trial 38 with value: 0.8722751364594197.\u001b[0m\n"
     ]
    },
    {
     "name": "stdout",
     "output_type": "stream",
     "text": [
      "F1:  0.8104448742746616\n",
      "AUC:  0.5\n"
     ]
    },
    {
     "name": "stderr",
     "output_type": "stream",
     "text": [
      "\u001b[32m[I 2023-05-03 13:35:04,180]\u001b[0m Trial 48 finished with value: 0.822268848259981 and parameters: {'spectral_radius': 0.5149543060345105, 'sparsity': 0.1507634491084806, 'leaking_rate': 0.8926955218532481, 'input_scaling': 3.957305451794797, 'threshold': 0.9348733962289049, 'ridge_alpha': 0.7132957993205206}. Best is trial 38 with value: 0.8722751364594197.\u001b[0m\n"
     ]
    },
    {
     "name": "stdout",
     "output_type": "stream",
     "text": [
      "F1:  0.7666536813400857\n",
      "AUC:  0.5\n"
     ]
    },
    {
     "name": "stderr",
     "output_type": "stream",
     "text": [
      "\u001b[32m[I 2023-05-03 13:35:10,523]\u001b[0m Trial 49 finished with value: 0.8086553083661611 and parameters: {'spectral_radius': 0.5205702758298921, 'sparsity': 0.14390408419492728, 'leaking_rate': 0.8886617333019649, 'input_scaling': 3.8562908094792077, 'threshold': 0.9476913704647446, 'ridge_alpha': 0.7378761365993718}. Best is trial 38 with value: 0.8722751364594197.\u001b[0m\n"
     ]
    },
    {
     "name": "stdout",
     "output_type": "stream",
     "text": [
      "F1:  0.7524828113063408\n",
      "AUC:  0.5\n"
     ]
    },
    {
     "name": "stderr",
     "output_type": "stream",
     "text": [
      "\u001b[32m[I 2023-05-03 13:35:10,842]\u001b[0m Trial 50 finished with value: 0.8661453776791437 and parameters: {'spectral_radius': 0.48962346009483004, 'sparsity': 0.07269306695509271, 'leaking_rate': 0.8874503975820606, 'input_scaling': 3.981348935212893, 'threshold': 0.9662966599837383, 'ridge_alpha': 0.7477502918307424}. Best is trial 38 with value: 0.8722751364594197.\u001b[0m\n"
     ]
    },
    {
     "name": "stdout",
     "output_type": "stream",
     "text": [
      "F1:  0.8206474190726158\n",
      "AUC:  0.5\n"
     ]
    },
    {
     "name": "stderr",
     "output_type": "stream",
     "text": [
      "\u001b[32m[I 2023-05-03 13:35:17,809]\u001b[0m Trial 51 finished with value: 0.8319342776067058 and parameters: {'spectral_radius': 0.4976079971311743, 'sparsity': 0.09970275505096468, 'leaking_rate': 0.8943989230394027, 'input_scaling': 3.986802661695932, 'threshold': 0.9412347871931225, 'ridge_alpha': 0.7080873293872983}. Best is trial 38 with value: 0.8722751364594197.\u001b[0m\n"
     ]
    },
    {
     "name": "stdout",
     "output_type": "stream",
     "text": [
      "F1:  0.7770750988142293\n",
      "AUC:  0.5\n"
     ]
    },
    {
     "name": "stderr",
     "output_type": "stream",
     "text": [
      "\u001b[32m[I 2023-05-03 13:35:19,574]\u001b[0m Trial 52 finished with value: 0.8231148719486443 and parameters: {'spectral_radius': 0.4910376673055351, 'sparsity': 0.15001535762929294, 'leaking_rate': 0.8929160672981017, 'input_scaling': 4.057378385198883, 'threshold': 0.9586754166262277, 'ridge_alpha': 0.724181003304719}. Best is trial 38 with value: 0.8722751364594197.\u001b[0m\n"
     ]
    },
    {
     "name": "stdout",
     "output_type": "stream",
     "text": [
      "F1:  0.7675507020280811\n",
      "AUC:  0.5\n"
     ]
    },
    {
     "name": "stderr",
     "output_type": "stream",
     "text": [
      "\u001b[32m[I 2023-05-03 13:35:23,013]\u001b[0m Trial 53 finished with value: 0.8225003308856036 and parameters: {'spectral_radius': 0.5077476846424264, 'sparsity': 0.14945749783337312, 'leaking_rate': 0.8946928447771955, 'input_scaling': 3.984553321303831, 'threshold': 0.9590920242124945, 'ridge_alpha': 0.7239905568126097}. Best is trial 38 with value: 0.8722751364594197.\u001b[0m\n"
     ]
    },
    {
     "name": "stdout",
     "output_type": "stream",
     "text": [
      "F1:  0.7670054730258014\n",
      "AUC:  0.5\n"
     ]
    },
    {
     "name": "stderr",
     "output_type": "stream",
     "text": [
      "\u001b[32m[I 2023-05-03 13:35:26,368]\u001b[0m Trial 55 finished with value: 0.8652782102631104 and parameters: {'spectral_radius': 0.49979009169902205, 'sparsity': 0.07025992348628922, 'leaking_rate': 0.8951084279487345, 'input_scaling': 4.064218431227858, 'threshold': 0.9604110981318746, 'ridge_alpha': 0.7462374408741808}. Best is trial 38 with value: 0.8722751364594197.\u001b[0m\n",
      "\u001b[32m[I 2023-05-03 13:35:26,524]\u001b[0m Trial 54 finished with value: 0.844651268541264 and parameters: {'spectral_radius': 0.4860162502484784, 'sparsity': 0.07195982913343146, 'leaking_rate': 0.8948369103378845, 'input_scaling': 4.12360632095317, 'threshold': 0.9625052026786556, 'ridge_alpha': 0.7366300922092203}. Best is trial 38 with value: 0.8722751364594197.\u001b[0m\n"
     ]
    },
    {
     "name": "stdout",
     "output_type": "stream",
     "text": [
      "F1:  0.8214285714285714\n",
      "AUC:  0.5\n",
      "F1:  0.7914308811641069\n",
      "AUC:  0.5\n"
     ]
    },
    {
     "name": "stderr",
     "output_type": "stream",
     "text": [
      "\u001b[32m[I 2023-05-03 13:35:26,597]\u001b[0m Trial 56 finished with value: 0.8359916765108566 and parameters: {'spectral_radius': 0.6821575405057752, 'sparsity': 0.15951339987453284, 'leaking_rate': 0.8957295572123177, 'input_scaling': 4.094798110480851, 'threshold': 0.9557311286720237, 'ridge_alpha': 0.7422216267391628}. Best is trial 38 with value: 0.8722751364594197.\u001b[0m\n"
     ]
    },
    {
     "name": "stdout",
     "output_type": "stream",
     "text": [
      "F1:  0.782964782964783\n",
      "AUC:  0.5\n"
     ]
    },
    {
     "name": "stderr",
     "output_type": "stream",
     "text": [
      "\u001b[32m[I 2023-05-03 13:35:27,888]\u001b[0m Trial 57 finished with value: 0.8417924718445183 and parameters: {'spectral_radius': 0.6828381245406401, 'sparsity': 0.07248929562639572, 'leaking_rate': 0.8955715918895647, 'input_scaling': 4.619357715679616, 'threshold': 0.964834024788309, 'ridge_alpha': 0.5827097517162062}. Best is trial 38 with value: 0.8722751364594197.\u001b[0m\n",
      "\u001b[32m[I 2023-05-03 13:35:28,038]\u001b[0m Trial 58 finished with value: 0.8619814363565568 and parameters: {'spectral_radius': 0.6895026519528922, 'sparsity': 0.0718236153999911, 'leaking_rate': 0.8990871344708585, 'input_scaling': 4.564396860750992, 'threshold': 0.9639135396438151, 'ridge_alpha': 0.5902144076049916}. Best is trial 38 with value: 0.8722751364594197.\u001b[0m\n"
     ]
    },
    {
     "name": "stdout",
     "output_type": "stream",
     "text": [
      "F1:  0.7992259313014031\n",
      "AUC:  0.5\n",
      "F1:  0.8114143920595533\n",
      "AUC:  0.5\n"
     ]
    },
    {
     "name": "stderr",
     "output_type": "stream",
     "text": [
      "\u001b[32m[I 2023-05-03 13:35:28,513]\u001b[0m Trial 59 finished with value: 0.863190198536854 and parameters: {'spectral_radius': 0.6647094579895739, 'sparsity': 0.06908251513472803, 'leaking_rate': 0.8965479788155966, 'input_scaling': 4.654966290295463, 'threshold': 0.9586997758848361, 'ridge_alpha': 0.5718054996565041}. Best is trial 38 with value: 0.8722751364594197.\u001b[0m\n"
     ]
    },
    {
     "name": "stdout",
     "output_type": "stream",
     "text": [
      "F1:  0.8250478011472276\n",
      "AUC:  0.5\n"
     ]
    },
    {
     "name": "stderr",
     "output_type": "stream",
     "text": [
      "\u001b[32m[I 2023-05-03 13:38:45,722]\u001b[0m Trial 60 finished with value: 0.8045234945254222 and parameters: {'spectral_radius': 0.6690224439092808, 'sparsity': 0.10378712252143123, 'leaking_rate': 0.8826510344983082, 'input_scaling': 4.6271892693163315, 'threshold': 0.9699747494532759, 'ridge_alpha': 0.5598149406894681}. Best is trial 38 with value: 0.8722751364594197.\u001b[0m\n"
     ]
    },
    {
     "name": "stdout",
     "output_type": "stream",
     "text": [
      "F1:  0.748040313549832\n",
      "AUC:  0.5\n"
     ]
    },
    {
     "name": "stderr",
     "output_type": "stream",
     "text": [
      "\u001b[32m[I 2023-05-03 13:38:52,739]\u001b[0m Trial 61 finished with value: 0.8366246153626479 and parameters: {'spectral_radius': 0.6883111584533781, 'sparsity': 0.07058874008140771, 'leaking_rate': 0.8996842672131848, 'input_scaling': 4.700508610603863, 'threshold': 0.962370776075118, 'ridge_alpha': 0.5608564527662734}. Best is trial 38 with value: 0.8722751364594197.\u001b[0m\n"
     ]
    },
    {
     "name": "stdout",
     "output_type": "stream",
     "text": [
      "F1:  0.7819548872180451\n",
      "AUC:  0.5\n"
     ]
    },
    {
     "name": "stderr",
     "output_type": "stream",
     "text": [
      "\u001b[32m[I 2023-05-03 13:38:53,099]\u001b[0m Trial 62 finished with value: 0.8648097531346263 and parameters: {'spectral_radius': 0.35962138587234904, 'sparsity': 0.07251953987138861, 'leaking_rate': 0.8991368650070688, 'input_scaling': 4.59294407589583, 'threshold': 0.9682850345778423, 'ridge_alpha': 0.6038908636923682}. Best is trial 38 with value: 0.8722751364594197.\u001b[0m\n"
     ]
    },
    {
     "name": "stdout",
     "output_type": "stream",
     "text": [
      "F1:  0.817946505608283\n",
      "AUC:  0.5\n"
     ]
    },
    {
     "name": "stderr",
     "output_type": "stream",
     "text": [
      "\u001b[32m[I 2023-05-03 13:38:59,233]\u001b[0m Trial 63 finished with value: 0.830957821833617 and parameters: {'spectral_radius': 0.6851890535599234, 'sparsity': 0.07045698526178844, 'leaking_rate': 0.8790768339058906, 'input_scaling': 4.631114413447608, 'threshold': 0.9661246014198087, 'ridge_alpha': 0.7892747425851989}. Best is trial 38 with value: 0.8722751364594197.\u001b[0m\n"
     ]
    },
    {
     "name": "stdout",
     "output_type": "stream",
     "text": [
      "F1:  0.7756059421422986\n",
      "AUC:  0.5\n"
     ]
    },
    {
     "name": "stderr",
     "output_type": "stream",
     "text": [
      "\u001b[32m[I 2023-05-03 13:39:00,793]\u001b[0m Trial 64 finished with value: 0.8602149740426422 and parameters: {'spectral_radius': 0.6859759625210557, 'sparsity': 0.07361593406709485, 'leaking_rate': 0.8788650663342826, 'input_scaling': 4.649894405779169, 'threshold': 0.9719545612814796, 'ridge_alpha': 0.5762691281671553}. Best is trial 38 with value: 0.8722751364594197.\u001b[0m\n"
     ]
    },
    {
     "name": "stdout",
     "output_type": "stream",
     "text": [
      "F1:  0.8101793909052983\n",
      "AUC:  0.5\n"
     ]
    },
    {
     "name": "stderr",
     "output_type": "stream",
     "text": [
      "\u001b[32m[I 2023-05-03 13:39:04,030]\u001b[0m Trial 65 finished with value: 0.8144204064977695 and parameters: {'spectral_radius': 0.6872617382963822, 'sparsity': 0.07527837754137075, 'leaking_rate': 0.8783461888400794, 'input_scaling': 4.603494559038236, 'threshold': 0.8924758124214205, 'ridge_alpha': 0.5817004897661338}. Best is trial 38 with value: 0.8722751364594197.\u001b[0m\n"
     ]
    },
    {
     "name": "stdout",
     "output_type": "stream",
     "text": [
      "F1:  0.7580706418533992\n",
      "AUC:  0.5\n"
     ]
    },
    {
     "name": "stderr",
     "output_type": "stream",
     "text": [
      "\u001b[32m[I 2023-05-03 13:39:10,101]\u001b[0m Trial 66 finished with value: 0.8578504462974039 and parameters: {'spectral_radius': 0.6742289808546003, 'sparsity': 0.07193304815869751, 'leaking_rate': 0.8820305321977714, 'input_scaling': 3.585314741074302, 'threshold': 0.9845392777379962, 'ridge_alpha': 0.7946094776737617}. Best is trial 38 with value: 0.8722751364594197.\u001b[0m\n"
     ]
    },
    {
     "name": "stdout",
     "output_type": "stream",
     "text": [
      "F1:  0.8146118721461186\n",
      "AUC:  0.5\n"
     ]
    },
    {
     "name": "stderr",
     "output_type": "stream",
     "text": [
      "\u001b[32m[I 2023-05-03 13:39:10,550]\u001b[0m Trial 67 finished with value: 0.8421104515366546 and parameters: {'spectral_radius': 0.37892585168249554, 'sparsity': 0.06885811544345184, 'leaking_rate': 0.8788581774142756, 'input_scaling': 4.636879073895881, 'threshold': 0.9795255316094841, 'ridge_alpha': 0.7817371547659371}. Best is trial 38 with value: 0.8722751364594197.\u001b[0m\n"
     ]
    },
    {
     "name": "stdout",
     "output_type": "stream",
     "text": [
      "F1:  0.7879029048945483\n",
      "AUC:  0.5\n"
     ]
    },
    {
     "name": "stderr",
     "output_type": "stream",
     "text": [
      "\u001b[32m[I 2023-05-03 13:39:10,787]\u001b[0m Trial 68 finished with value: 0.8579350212068839 and parameters: {'spectral_radius': 0.3796977952941414, 'sparsity': 0.06635814265026498, 'leaking_rate': 0.8831939065437487, 'input_scaling': 4.593602889678543, 'threshold': 0.9869683534372878, 'ridge_alpha': 0.7935913369950442}. Best is trial 38 with value: 0.8722751364594197.\u001b[0m\n"
     ]
    },
    {
     "name": "stdout",
     "output_type": "stream",
     "text": [
      "F1:  0.8080469404861693\n",
      "AUC:  0.5\n"
     ]
    },
    {
     "name": "stderr",
     "output_type": "stream",
     "text": [
      "\u001b[32m[I 2023-05-03 13:39:11,303]\u001b[0m Trial 69 finished with value: 0.8631709769665177 and parameters: {'spectral_radius': 0.3496072468454749, 'sparsity': 0.06442908724549579, 'leaking_rate': 0.881008313091815, 'input_scaling': 4.646064908942945, 'threshold': 0.9826473444447624, 'ridge_alpha': 0.7780049515042663}. Best is trial 38 with value: 0.8722751364594197.\u001b[0m\n"
     ]
    },
    {
     "name": "stdout",
     "output_type": "stream",
     "text": [
      "F1:  0.8166811468288445\n",
      "AUC:  0.5\n"
     ]
    },
    {
     "name": "stderr",
     "output_type": "stream",
     "text": [
      "\u001b[32m[I 2023-05-03 13:39:11,630]\u001b[0m Trial 70 finished with value: 0.8591594352373122 and parameters: {'spectral_radius': 0.3737239297730194, 'sparsity': 0.065747654905613, 'leaking_rate': 0.8776461824264311, 'input_scaling': 3.5511905642333357, 'threshold': 0.9996138377773751, 'ridge_alpha': 0.79673454316947}. Best is trial 38 with value: 0.8722751364594197.\u001b[0m\n"
     ]
    },
    {
     "name": "stdout",
     "output_type": "stream",
     "text": [
      "F1:  0.8169663439372983\n",
      "AUC:  0.5\n"
     ]
    },
    {
     "name": "stderr",
     "output_type": "stream",
     "text": [
      "\u001b[32m[I 2023-05-03 13:39:12,559]\u001b[0m Trial 71 finished with value: 0.853601106283751 and parameters: {'spectral_radius': 0.37688953943854203, 'sparsity': 0.06400306962303082, 'leaking_rate': 0.8760341256000002, 'input_scaling': 3.4651691832386424, 'threshold': 0.8942125354715448, 'ridge_alpha': 0.48284571162828727}. Best is trial 38 with value: 0.8722751364594197.\u001b[0m\n"
     ]
    },
    {
     "name": "stdout",
     "output_type": "stream",
     "text": [
      "F1:  0.8024844720496894\n",
      "AUC:  0.5\n"
     ]
    },
    {
     "name": "stderr",
     "output_type": "stream",
     "text": [
      "\u001b[32m[I 2023-05-03 13:42:32,375]\u001b[0m Trial 72 finished with value: 0.8370848346752735 and parameters: {'spectral_radius': 0.37588902238022437, 'sparsity': 0.06359490503608684, 'leaking_rate': 0.8770437814602822, 'input_scaling': 3.609864357678954, 'threshold': 0.8958183481259745, 'ridge_alpha': 0.7797902613446306}. Best is trial 38 with value: 0.8722751364594197.\u001b[0m\n"
     ]
    },
    {
     "name": "stdout",
     "output_type": "stream",
     "text": [
      "F1:  0.7821977156360773\n",
      "AUC:  0.5\n"
     ]
    },
    {
     "name": "stderr",
     "output_type": "stream",
     "text": [
      "\u001b[32m[I 2023-05-03 13:42:39,305]\u001b[0m Trial 73 finished with value: 0.8435204910177602 and parameters: {'spectral_radius': 0.3785544045677885, 'sparsity': 0.06114818888644568, 'leaking_rate': 0.8771949220381458, 'input_scaling': 4.275697721823853, 'threshold': 0.9992343301392956, 'ridge_alpha': 0.7809339037332395}. Best is trial 38 with value: 0.8722751364594197.\u001b[0m\n"
     ]
    },
    {
     "name": "stdout",
     "output_type": "stream",
     "text": [
      "F1:  0.7894736842105263\n",
      "AUC:  0.5\n"
     ]
    },
    {
     "name": "stderr",
     "output_type": "stream",
     "text": [
      "\u001b[32m[I 2023-05-03 13:42:39,764]\u001b[0m Trial 74 finished with value: 0.8628035703792305 and parameters: {'spectral_radius': 0.3233569258809574, 'sparsity': 0.060759843308776776, 'leaking_rate': 0.8742180758929765, 'input_scaling': 4.303589047383446, 'threshold': 0.992461687720761, 'ridge_alpha': 0.7761111385675918}. Best is trial 38 with value: 0.8722751364594197.\u001b[0m\n"
     ]
    },
    {
     "name": "stdout",
     "output_type": "stream",
     "text": [
      "F1:  0.8130217028380633\n",
      "AUC:  0.5\n"
     ]
    },
    {
     "name": "stderr",
     "output_type": "stream",
     "text": [
      "\u001b[32m[I 2023-05-03 13:42:44,883]\u001b[0m Trial 75 finished with value: 0.8379042227593279 and parameters: {'spectral_radius': 0.3715313236041836, 'sparsity': 0.06011953642267971, 'leaking_rate': 0.8760362578603959, 'input_scaling': 4.4526394057314285, 'threshold': 0.999265446745161, 'ridge_alpha': 0.6026070718813339}. Best is trial 38 with value: 0.8722751364594197.\u001b[0m\n"
     ]
    },
    {
     "name": "stdout",
     "output_type": "stream",
     "text": [
      "F1:  0.7828818217510798\n",
      "AUC:  0.5\n"
     ]
    },
    {
     "name": "stderr",
     "output_type": "stream",
     "text": [
      "\u001b[32m[I 2023-05-03 13:42:47,484]\u001b[0m Trial 76 finished with value: 0.8622477924026468 and parameters: {'spectral_radius': 0.365608293680035, 'sparsity': 0.05596513094332948, 'leaking_rate': 0.9207020583354805, 'input_scaling': 4.2882287118361075, 'threshold': 0.994095043135607, 'ridge_alpha': 0.5313233340712509}. Best is trial 38 with value: 0.8722751364594197.\u001b[0m\n"
     ]
    },
    {
     "name": "stdout",
     "output_type": "stream",
     "text": [
      "F1:  0.8154246100519931\n",
      "AUC:  0.5\n"
     ]
    },
    {
     "name": "stderr",
     "output_type": "stream",
     "text": [
      "\u001b[32m[I 2023-05-03 13:42:50,688]\u001b[0m Trial 77 finished with value: 0.8626281049014455 and parameters: {'spectral_radius': 0.34626307499635217, 'sparsity': 0.06221361499705018, 'leaking_rate': 0.9210667747531577, 'input_scaling': 4.269940050192075, 'threshold': 0.9958476210416789, 'ridge_alpha': 0.5031686375879809}. Best is trial 38 with value: 0.8722751364594197.\u001b[0m\n"
     ]
    },
    {
     "name": "stdout",
     "output_type": "stream",
     "text": [
      "F1:  0.8142796430089247\n",
      "AUC:  0.5\n"
     ]
    },
    {
     "name": "stderr",
     "output_type": "stream",
     "text": [
      "\u001b[32m[I 2023-05-03 13:42:58,370]\u001b[0m Trial 78 finished with value: 0.8561658129543499 and parameters: {'spectral_radius': 0.3939361479419655, 'sparsity': 0.06213521078680333, 'leaking_rate': 0.9195310655580557, 'input_scaling': 4.341442511303569, 'threshold': 0.899117968537877, 'ridge_alpha': 0.4710528251910499}. Best is trial 38 with value: 0.8722751364594197.\u001b[0m\n"
     ]
    },
    {
     "name": "stdout",
     "output_type": "stream",
     "text": [
      "F1:  0.8058455114822546\n",
      "AUC:  0.5\n"
     ]
    },
    {
     "name": "stderr",
     "output_type": "stream",
     "text": [
      "\u001b[32m[I 2023-05-03 13:42:59,454]\u001b[0m Trial 80 finished with value: 0.8673717138666055 and parameters: {'spectral_radius': 0.34597601973957004, 'sparsity': 0.05569900280531711, 'leaking_rate': 0.9028399737952771, 'input_scaling': 4.269199766764179, 'threshold': 0.9055528571392231, 'ridge_alpha': 0.5017455214812276}. Best is trial 38 with value: 0.8722751364594197.\u001b[0m\n"
     ]
    },
    {
     "name": "stdout",
     "output_type": "stream",
     "text": [
      "F1:  0.820446735395189\n",
      "AUC:  0.5\n"
     ]
    },
    {
     "name": "stderr",
     "output_type": "stream",
     "text": [
      "\u001b[32m[I 2023-05-03 13:42:59,894]\u001b[0m Trial 82 finished with value: 0.8256812261824149 and parameters: {'spectral_radius': 0.44668331912100373, 'sparsity': 0.05509445118637464, 'leaking_rate': 0.918455155827093, 'input_scaling': 4.396787227189835, 'threshold': 0.8996814517959059, 'ridge_alpha': 0.47473474094720286}. Best is trial 38 with value: 0.8722751364594197.\u001b[0m\n",
      "\u001b[32m[I 2023-05-03 13:43:00,068]\u001b[0m Trial 79 finished with value: 0.8596775938548091 and parameters: {'spectral_radius': 0.32209132463396756, 'sparsity': 0.04991224315276507, 'leaking_rate': 0.9032546694263386, 'input_scaling': 4.379281221303454, 'threshold': 0.9979204968875043, 'ridge_alpha': 0.5084293817493031}. Best is trial 38 with value: 0.8722751364594197.\u001b[0m\n"
     ]
    },
    {
     "name": "stdout",
     "output_type": "stream",
     "text": [
      "F1:  0.7812817904374364\n",
      "AUC:  0.5\n",
      "F1:  0.8098827470686766\n",
      "AUC:  0.5\n"
     ]
    },
    {
     "name": "stderr",
     "output_type": "stream",
     "text": [
      "\u001b[32m[I 2023-05-03 13:43:00,713]\u001b[0m Trial 81 finished with value: 0.863910458236745 and parameters: {'spectral_radius': 0.3056210644171261, 'sparsity': 0.05251015885154163, 'leaking_rate': 0.9043375949224691, 'input_scaling': 4.307443668228466, 'threshold': 0.9022440610181739, 'ridge_alpha': 0.6263663335242872}. Best is trial 38 with value: 0.8722751364594197.\u001b[0m\n"
     ]
    },
    {
     "name": "stdout",
     "output_type": "stream",
     "text": [
      "F1:  0.816047801963295\n",
      "AUC:  0.5\n"
     ]
    },
    {
     "name": "stderr",
     "output_type": "stream",
     "text": [
      "\u001b[32m[I 2023-05-03 13:43:01,245]\u001b[0m Trial 83 finished with value: 0.8342930388808433 and parameters: {'spectral_radius': 0.45812494463815084, 'sparsity': 0.052932200360513056, 'leaking_rate': 0.9197850726833314, 'input_scaling': 4.409642255098218, 'threshold': 0.9069508095291017, 'ridge_alpha': 0.6154146623608018}. Best is trial 38 with value: 0.8722751364594197.\u001b[0m\n"
     ]
    },
    {
     "name": "stdout",
     "output_type": "stream",
     "text": [
      "F1:  0.7928571428571428\n",
      "AUC:  0.5\n"
     ]
    },
    {
     "name": "stderr",
     "output_type": "stream",
     "text": [
      "\u001b[32m[I 2023-05-03 13:46:20,009]\u001b[0m Trial 84 finished with value: 0.8574481662896493 and parameters: {'spectral_radius': 0.4367165795253093, 'sparsity': 0.053123160867734685, 'leaking_rate': 0.9051691150435273, 'input_scaling': 4.353711847293402, 'threshold': 0.9053091676079758, 'ridge_alpha': 0.6194891845954726}. Best is trial 38 with value: 0.8722751364594197.\u001b[0m\n"
     ]
    },
    {
     "name": "stdout",
     "output_type": "stream",
     "text": [
      "F1:  0.8075471698113208\n",
      "AUC:  0.5\n"
     ]
    },
    {
     "name": "stderr",
     "output_type": "stream",
     "text": [
      "\u001b[32m[I 2023-05-03 13:46:26,875]\u001b[0m Trial 85 finished with value: 0.857807335061078 and parameters: {'spectral_radius': 0.45580739618679894, 'sparsity': 0.051625460974227794, 'leaking_rate': 0.9034999043143422, 'input_scaling': 4.40818307364634, 'threshold': 0.8240960095044908, 'ridge_alpha': 0.6295513079799229}. Best is trial 38 with value: 0.8722751364594197.\u001b[0m\n"
     ]
    },
    {
     "name": "stdout",
     "output_type": "stream",
     "text": [
      "F1:  0.8080638387232255\n",
      "AUC:  0.5\n"
     ]
    },
    {
     "name": "stderr",
     "output_type": "stream",
     "text": [
      "\u001b[32m[I 2023-05-03 13:46:27,435]\u001b[0m Trial 86 finished with value: 0.868686194683753 and parameters: {'spectral_radius': 0.572801348195747, 'sparsity': 0.05330088841211289, 'leaking_rate': 0.9032080188626809, 'input_scaling': 4.408780937185084, 'threshold': 0.8804275435666494, 'ridge_alpha': 0.6173170914928346}. Best is trial 38 with value: 0.8722751364594197.\u001b[0m\n"
     ]
    },
    {
     "name": "stdout",
     "output_type": "stream",
     "text": [
      "F1:  0.8251001335113485\n",
      "AUC:  0.5\n"
     ]
    },
    {
     "name": "stderr",
     "output_type": "stream",
     "text": [
      "\u001b[32m[I 2023-05-03 13:46:31,698]\u001b[0m Trial 87 finished with value: 0.8564478208505709 and parameters: {'spectral_radius': 0.4624990074299576, 'sparsity': 0.047928745902823804, 'leaking_rate': 0.9039459755083609, 'input_scaling': 4.417168113822241, 'threshold': 0.9052795984947134, 'ridge_alpha': 0.6303073514441183}. Best is trial 38 with value: 0.8722751364594197.\u001b[0m\n"
     ]
    },
    {
     "name": "stdout",
     "output_type": "stream",
     "text": [
      "F1:  0.8061821219715957\n",
      "AUC:  0.5\n"
     ]
    },
    {
     "name": "stderr",
     "output_type": "stream",
     "text": [
      "\u001b[32m[I 2023-05-03 13:46:35,812]\u001b[0m Trial 88 finished with value: 0.8420094009954576 and parameters: {'spectral_radius': 0.46281361193293247, 'sparsity': 0.10188558463112315, 'leaking_rate': 0.9023943221101257, 'input_scaling': 4.806043348923449, 'threshold': 0.8793754422696716, 'ridge_alpha': 0.6315674955924714}. Best is trial 38 with value: 0.8722751364594197.\u001b[0m\n"
     ]
    },
    {
     "name": "stdout",
     "output_type": "stream",
     "text": [
      "F1:  0.788145774929916\n",
      "AUC:  0.5\n"
     ]
    },
    {
     "name": "stderr",
     "output_type": "stream",
     "text": [
      "\u001b[32m[I 2023-05-03 13:46:39,608]\u001b[0m Trial 89 finished with value: 0.8525235999694651 and parameters: {'spectral_radius': 0.4581405461053012, 'sparsity': 0.08150154544744104, 'leaking_rate': 0.9039718407234135, 'input_scaling': 4.77985914627132, 'threshold': 0.9082335971738599, 'ridge_alpha': 0.6798328264102429}. Best is trial 38 with value: 0.8722751364594197.\u001b[0m\n"
     ]
    },
    {
     "name": "stdout",
     "output_type": "stream",
     "text": [
      "F1:  0.8009888751545117\n",
      "AUC:  0.5\n"
     ]
    },
    {
     "name": "stderr",
     "output_type": "stream",
     "text": [
      "\u001b[32m[I 2023-05-03 13:46:45,794]\u001b[0m Trial 90 finished with value: 0.8409080050151823 and parameters: {'spectral_radius': 0.6312928731584577, 'sparsity': 0.07778557298099704, 'leaking_rate': 0.9060866324442562, 'input_scaling': 4.493221662246607, 'threshold': 0.9128497501471121, 'ridge_alpha': 0.6147988581767949}. Best is trial 38 with value: 0.8722751364594197.\u001b[0m\n"
     ]
    },
    {
     "name": "stdout",
     "output_type": "stream",
     "text": [
      "F1:  0.7871485943775101\n",
      "AUC:  0.5\n"
     ]
    },
    {
     "name": "stderr",
     "output_type": "stream",
     "text": [
      "\u001b[32m[I 2023-05-03 13:46:46,905]\u001b[0m Trial 91 finished with value: 0.8457793001261484 and parameters: {'spectral_radius': 0.4578270127409225, 'sparsity': 0.0801764711756287, 'leaking_rate': 0.9016889818711286, 'input_scaling': 4.454025258137706, 'threshold': 0.8777663915589469, 'ridge_alpha': 0.6178843873824235}. Best is trial 38 with value: 0.8722751364594197.\u001b[0m\n"
     ]
    },
    {
     "name": "stdout",
     "output_type": "stream",
     "text": [
      "F1:  0.7927125506072874\n",
      "AUC:  0.5\n"
     ]
    },
    {
     "name": "stderr",
     "output_type": "stream",
     "text": [
      "\u001b[32m[I 2023-05-03 13:46:48,400]\u001b[0m Trial 92 finished with value: 0.8687367199543515 and parameters: {'spectral_radius': 0.46608578256686145, 'sparsity': 0.07968914144426939, 'leaking_rate': 0.9048687067261626, 'input_scaling': 4.7627868222129734, 'threshold': 0.8767741156598241, 'ridge_alpha': 0.6111159730150667}. Best is trial 38 with value: 0.8722751364594197.\u001b[0m\n"
     ]
    },
    {
     "name": "stdout",
     "output_type": "stream",
     "text": [
      "F1:  0.8248337028824834\n",
      "AUC:  0.5\n"
     ]
    },
    {
     "name": "stderr",
     "output_type": "stream",
     "text": [
      "\u001b[32m[I 2023-05-03 13:46:48,697]\u001b[0m Trial 93 finished with value: 0.8689231691866146 and parameters: {'spectral_radius': 0.5792342943419135, 'sparsity': 0.08053703629556705, 'leaking_rate': 0.903956409451828, 'input_scaling': 4.173315484184399, 'threshold': 0.8251583651061132, 'ridge_alpha': 0.6080330215557828}. Best is trial 38 with value: 0.8722751364594197.\u001b[0m\n"
     ]
    },
    {
     "name": "stdout",
     "output_type": "stream",
     "text": [
      "F1:  0.8282828282828282\n",
      "AUC:  0.5\n"
     ]
    },
    {
     "name": "stderr",
     "output_type": "stream",
     "text": [
      "\u001b[32m[I 2023-05-03 13:46:49,218]\u001b[0m Trial 94 finished with value: 0.8654858032227434 and parameters: {'spectral_radius': 0.27546232726853104, 'sparsity': 0.0809211680241609, 'leaking_rate': 0.9028680261883746, 'input_scaling': 4.50968805931898, 'threshold': 0.9088858908219398, 'ridge_alpha': 0.6172779569083441}. Best is trial 38 with value: 0.8722751364594197.\u001b[0m\n",
      "\u001b[32m[I 2023-05-03 13:46:49,408]\u001b[0m Trial 95 finished with value: 0.8489464657298622 and parameters: {'spectral_radius': 0.5795130312594311, 'sparsity': 0.08218380148395725, 'leaking_rate': 0.9057449820799497, 'input_scaling': 4.770183862916713, 'threshold': 0.91174283918273, 'ridge_alpha': 0.6264469892090065}. Best is trial 38 with value: 0.8722751364594197.\u001b[0m\n"
     ]
    },
    {
     "name": "stdout",
     "output_type": "stream",
     "text": [
      "F1:  0.8227848101265823\n",
      "AUC:  0.5\n",
      "F1:  0.8096646942800788\n",
      "AUC:  0.5\n"
     ]
    },
    {
     "name": "stderr",
     "output_type": "stream",
     "text": [
      "\u001b[32m[I 2023-05-03 13:47:55,077]\u001b[0m Trial 96 finished with value: 0.8477533553996961 and parameters: {'spectral_radius': 0.25929832889549337, 'sparsity': 0.07880806243551007, 'leaking_rate': 0.8884281210381431, 'input_scaling': 4.160139531374757, 'threshold': 0.8741328732862456, 'ridge_alpha': 0.6378593393997041}. Best is trial 38 with value: 0.8722751364594197.\u001b[0m\n"
     ]
    },
    {
     "name": "stdout",
     "output_type": "stream",
     "text": [
      "F1:  0.7949654892407633\n",
      "AUC:  0.5\n"
     ]
    },
    {
     "name": "stderr",
     "output_type": "stream",
     "text": [
      "\u001b[32m[I 2023-05-03 13:47:57,569]\u001b[0m Trial 98 finished with value: 0.8703249708518616 and parameters: {'spectral_radius': 0.6241309492874905, 'sparsity': 0.0814258004399691, 'leaking_rate': 0.8891325237606313, 'input_scaling': 4.786385729392567, 'threshold': 0.8685881567014849, 'ridge_alpha': 0.6711403921307266}. Best is trial 38 with value: 0.8722751364594197.\u001b[0m\n",
      "\u001b[32m[I 2023-05-03 13:47:57,589]\u001b[0m Trial 97 finished with value: 0.8223965344057871 and parameters: {'spectral_radius': 0.5828593943277443, 'sparsity': 0.07988211885954832, 'leaking_rate': 0.8881362383637991, 'input_scaling': 4.147805001262749, 'threshold': 0.8786108573005285, 'ridge_alpha': 0.6741296362272268}. Best is trial 38 with value: 0.8722751364594197.\u001b[0m\n"
     ]
    },
    {
     "name": "stdout",
     "output_type": "stream",
     "text": [
      "F1:  0.8263367211665931\n",
      "AUC:  0.5\n",
      "F1:  0.7667185069984448\n",
      "AUC:  0.5\n"
     ]
    },
    {
     "name": "stderr",
     "output_type": "stream",
     "text": [
      "\u001b[32m[I 2023-05-03 13:47:57,968]\u001b[0m Trial 99 finished with value: 0.8199834035469838 and parameters: {'spectral_radius': 0.5727173153305694, 'sparsity': 0.07790471886569209, 'leaking_rate': 0.8901464083500166, 'input_scaling': 4.780330530222162, 'threshold': 0.8798452486942484, 'ridge_alpha': 0.544560432849392}. Best is trial 38 with value: 0.8722751364594197.\u001b[0m\n"
     ]
    },
    {
     "name": "stdout",
     "output_type": "stream",
     "text": [
      "F1:  0.7637614678899083\n",
      "AUC:  0.5\n",
      "Best hyperparameters: {'spectral_radius': 0.5215203845623011, 'sparsity': 0.08860864301501147, 'leaking_rate': 0.890752732058367, 'input_scaling': 4.919175568058266, 'threshold': 0.9219100448194322, 'ridge_alpha': 0.6669484997770273}\n",
      "Best score: 0.8722751364594197\n"
     ]
    },
    {
     "data": {
      "application/vnd.plotly.v1+json": {
       "config": {
        "plotlyServerURL": "https://plot.ly"
       },
       "data": [
        {
         "mode": "markers",
         "name": "Objective Value",
         "type": "scatter",
         "x": [
          0,
          1,
          2,
          3,
          4,
          5,
          6,
          7,
          8,
          9,
          10,
          11,
          12,
          13,
          14,
          15,
          16,
          17,
          18,
          19,
          20,
          21,
          22,
          23,
          24,
          25,
          26,
          27,
          28,
          29,
          30,
          31,
          32,
          33,
          34,
          35,
          36,
          37,
          38,
          39,
          40,
          41,
          42,
          43,
          44,
          45,
          46,
          47,
          48,
          49,
          50,
          51,
          52,
          53,
          54,
          55,
          56,
          57,
          58,
          59,
          60,
          61,
          62,
          63,
          64,
          65,
          66,
          67,
          68,
          69,
          70,
          71,
          72,
          73,
          74,
          75,
          76,
          77,
          78,
          79,
          80,
          81,
          82,
          83,
          84,
          85,
          86,
          87,
          88,
          89,
          90,
          91,
          92,
          93,
          94,
          95,
          96,
          97,
          98,
          99
         ],
         "y": [
          0.8632132644212578,
          0.842524539080473,
          0.7866987831647602,
          0.8175581905582548,
          0.8350113764237006,
          0.8481537132504169,
          0.7823807946856203,
          0.8525087719009199,
          0.8584806392105756,
          0.8123266283004122,
          0.8049414263833078,
          0.6194843017435063,
          0.8176290357746375,
          0.5776625581933041,
          0.8379959371092186,
          0.6134371957156768,
          0.8418926986041295,
          0.8220922844067482,
          0.750564976870959,
          0.7481963302177914,
          0.8134988694970704,
          0.8720170182291881,
          0.8473996785055065,
          0.8524821362963109,
          0.5571970776622837,
          0.8531307269982333,
          0.8583125877670631,
          0.562760074711498,
          0.8720197641678076,
          0.8698941330824643,
          0.824955749199147,
          0.7933760821057614,
          0.5879359383503828,
          0.7662448355759414,
          0.8546050214430347,
          0.7980134232463475,
          0.8628118081950891,
          0.8631525791777672,
          0.8722751364594197,
          0.7919635712798985,
          0.8484211676719549,
          0.846746419707931,
          0.7987021046521143,
          0.8007294311348799,
          0.8053958792248326,
          0.8507368177097664,
          0.8155594218371318,
          0.7867679808179713,
          0.822268848259981,
          0.8086553083661611,
          0.8661453776791437,
          0.8319342776067058,
          0.8231148719486443,
          0.8225003308856036,
          0.844651268541264,
          0.8652782102631104,
          0.8359916765108566,
          0.8417924718445183,
          0.8619814363565568,
          0.863190198536854,
          0.8045234945254222,
          0.8366246153626479,
          0.8648097531346263,
          0.830957821833617,
          0.8602149740426422,
          0.8144204064977695,
          0.8578504462974039,
          0.8421104515366546,
          0.8579350212068839,
          0.8631709769665177,
          0.8591594352373122,
          0.853601106283751,
          0.8370848346752735,
          0.8435204910177602,
          0.8628035703792305,
          0.8379042227593279,
          0.8622477924026468,
          0.8626281049014455,
          0.8561658129543499,
          0.8596775938548091,
          0.8673717138666055,
          0.863910458236745,
          0.8256812261824149,
          0.8342930388808433,
          0.8574481662896493,
          0.857807335061078,
          0.868686194683753,
          0.8564478208505709,
          0.8420094009954576,
          0.8525235999694651,
          0.8409080050151823,
          0.8457793001261484,
          0.8687367199543515,
          0.8689231691866146,
          0.8654858032227434,
          0.8489464657298622,
          0.8477533553996961,
          0.8223965344057871,
          0.8703249708518616,
          0.8199834035469838
         ]
        },
        {
         "name": "Best Value",
         "type": "scatter",
         "x": [
          0,
          1,
          2,
          3,
          4,
          5,
          6,
          7,
          8,
          9,
          10,
          11,
          12,
          13,
          14,
          15,
          16,
          17,
          18,
          19,
          20,
          21,
          22,
          23,
          24,
          25,
          26,
          27,
          28,
          29,
          30,
          31,
          32,
          33,
          34,
          35,
          36,
          37,
          38,
          39,
          40,
          41,
          42,
          43,
          44,
          45,
          46,
          47,
          48,
          49,
          50,
          51,
          52,
          53,
          54,
          55,
          56,
          57,
          58,
          59,
          60,
          61,
          62,
          63,
          64,
          65,
          66,
          67,
          68,
          69,
          70,
          71,
          72,
          73,
          74,
          75,
          76,
          77,
          78,
          79,
          80,
          81,
          82,
          83,
          84,
          85,
          86,
          87,
          88,
          89,
          90,
          91,
          92,
          93,
          94,
          95,
          96,
          97,
          98,
          99
         ],
         "y": [
          0.8632132644212578,
          0.8632132644212578,
          0.8632132644212578,
          0.8632132644212578,
          0.8632132644212578,
          0.8632132644212578,
          0.8632132644212578,
          0.8632132644212578,
          0.8632132644212578,
          0.8632132644212578,
          0.8632132644212578,
          0.8632132644212578,
          0.8632132644212578,
          0.8632132644212578,
          0.8632132644212578,
          0.8632132644212578,
          0.8632132644212578,
          0.8632132644212578,
          0.8632132644212578,
          0.8632132644212578,
          0.8632132644212578,
          0.8720170182291881,
          0.8720170182291881,
          0.8720170182291881,
          0.8720170182291881,
          0.8720170182291881,
          0.8720170182291881,
          0.8720170182291881,
          0.8720197641678076,
          0.8720197641678076,
          0.8720197641678076,
          0.8720197641678076,
          0.8720197641678076,
          0.8720197641678076,
          0.8720197641678076,
          0.8720197641678076,
          0.8720197641678076,
          0.8720197641678076,
          0.8722751364594197,
          0.8722751364594197,
          0.8722751364594197,
          0.8722751364594197,
          0.8722751364594197,
          0.8722751364594197,
          0.8722751364594197,
          0.8722751364594197,
          0.8722751364594197,
          0.8722751364594197,
          0.8722751364594197,
          0.8722751364594197,
          0.8722751364594197,
          0.8722751364594197,
          0.8722751364594197,
          0.8722751364594197,
          0.8722751364594197,
          0.8722751364594197,
          0.8722751364594197,
          0.8722751364594197,
          0.8722751364594197,
          0.8722751364594197,
          0.8722751364594197,
          0.8722751364594197,
          0.8722751364594197,
          0.8722751364594197,
          0.8722751364594197,
          0.8722751364594197,
          0.8722751364594197,
          0.8722751364594197,
          0.8722751364594197,
          0.8722751364594197,
          0.8722751364594197,
          0.8722751364594197,
          0.8722751364594197,
          0.8722751364594197,
          0.8722751364594197,
          0.8722751364594197,
          0.8722751364594197,
          0.8722751364594197,
          0.8722751364594197,
          0.8722751364594197,
          0.8722751364594197,
          0.8722751364594197,
          0.8722751364594197,
          0.8722751364594197,
          0.8722751364594197,
          0.8722751364594197,
          0.8722751364594197,
          0.8722751364594197,
          0.8722751364594197,
          0.8722751364594197,
          0.8722751364594197,
          0.8722751364594197,
          0.8722751364594197,
          0.8722751364594197,
          0.8722751364594197,
          0.8722751364594197,
          0.8722751364594197,
          0.8722751364594197,
          0.8722751364594197,
          0.8722751364594197
         ]
        }
       ],
       "layout": {
        "template": {
         "data": {
          "bar": [
           {
            "error_x": {
             "color": "#2a3f5f"
            },
            "error_y": {
             "color": "#2a3f5f"
            },
            "marker": {
             "line": {
              "color": "#E5ECF6",
              "width": 0.5
             },
             "pattern": {
              "fillmode": "overlay",
              "size": 10,
              "solidity": 0.2
             }
            },
            "type": "bar"
           }
          ],
          "barpolar": [
           {
            "marker": {
             "line": {
              "color": "#E5ECF6",
              "width": 0.5
             },
             "pattern": {
              "fillmode": "overlay",
              "size": 10,
              "solidity": 0.2
             }
            },
            "type": "barpolar"
           }
          ],
          "carpet": [
           {
            "aaxis": {
             "endlinecolor": "#2a3f5f",
             "gridcolor": "white",
             "linecolor": "white",
             "minorgridcolor": "white",
             "startlinecolor": "#2a3f5f"
            },
            "baxis": {
             "endlinecolor": "#2a3f5f",
             "gridcolor": "white",
             "linecolor": "white",
             "minorgridcolor": "white",
             "startlinecolor": "#2a3f5f"
            },
            "type": "carpet"
           }
          ],
          "choropleth": [
           {
            "colorbar": {
             "outlinewidth": 0,
             "ticks": ""
            },
            "type": "choropleth"
           }
          ],
          "contour": [
           {
            "colorbar": {
             "outlinewidth": 0,
             "ticks": ""
            },
            "colorscale": [
             [
              0,
              "#0d0887"
             ],
             [
              0.1111111111111111,
              "#46039f"
             ],
             [
              0.2222222222222222,
              "#7201a8"
             ],
             [
              0.3333333333333333,
              "#9c179e"
             ],
             [
              0.4444444444444444,
              "#bd3786"
             ],
             [
              0.5555555555555556,
              "#d8576b"
             ],
             [
              0.6666666666666666,
              "#ed7953"
             ],
             [
              0.7777777777777778,
              "#fb9f3a"
             ],
             [
              0.8888888888888888,
              "#fdca26"
             ],
             [
              1,
              "#f0f921"
             ]
            ],
            "type": "contour"
           }
          ],
          "contourcarpet": [
           {
            "colorbar": {
             "outlinewidth": 0,
             "ticks": ""
            },
            "type": "contourcarpet"
           }
          ],
          "heatmap": [
           {
            "colorbar": {
             "outlinewidth": 0,
             "ticks": ""
            },
            "colorscale": [
             [
              0,
              "#0d0887"
             ],
             [
              0.1111111111111111,
              "#46039f"
             ],
             [
              0.2222222222222222,
              "#7201a8"
             ],
             [
              0.3333333333333333,
              "#9c179e"
             ],
             [
              0.4444444444444444,
              "#bd3786"
             ],
             [
              0.5555555555555556,
              "#d8576b"
             ],
             [
              0.6666666666666666,
              "#ed7953"
             ],
             [
              0.7777777777777778,
              "#fb9f3a"
             ],
             [
              0.8888888888888888,
              "#fdca26"
             ],
             [
              1,
              "#f0f921"
             ]
            ],
            "type": "heatmap"
           }
          ],
          "heatmapgl": [
           {
            "colorbar": {
             "outlinewidth": 0,
             "ticks": ""
            },
            "colorscale": [
             [
              0,
              "#0d0887"
             ],
             [
              0.1111111111111111,
              "#46039f"
             ],
             [
              0.2222222222222222,
              "#7201a8"
             ],
             [
              0.3333333333333333,
              "#9c179e"
             ],
             [
              0.4444444444444444,
              "#bd3786"
             ],
             [
              0.5555555555555556,
              "#d8576b"
             ],
             [
              0.6666666666666666,
              "#ed7953"
             ],
             [
              0.7777777777777778,
              "#fb9f3a"
             ],
             [
              0.8888888888888888,
              "#fdca26"
             ],
             [
              1,
              "#f0f921"
             ]
            ],
            "type": "heatmapgl"
           }
          ],
          "histogram": [
           {
            "marker": {
             "pattern": {
              "fillmode": "overlay",
              "size": 10,
              "solidity": 0.2
             }
            },
            "type": "histogram"
           }
          ],
          "histogram2d": [
           {
            "colorbar": {
             "outlinewidth": 0,
             "ticks": ""
            },
            "colorscale": [
             [
              0,
              "#0d0887"
             ],
             [
              0.1111111111111111,
              "#46039f"
             ],
             [
              0.2222222222222222,
              "#7201a8"
             ],
             [
              0.3333333333333333,
              "#9c179e"
             ],
             [
              0.4444444444444444,
              "#bd3786"
             ],
             [
              0.5555555555555556,
              "#d8576b"
             ],
             [
              0.6666666666666666,
              "#ed7953"
             ],
             [
              0.7777777777777778,
              "#fb9f3a"
             ],
             [
              0.8888888888888888,
              "#fdca26"
             ],
             [
              1,
              "#f0f921"
             ]
            ],
            "type": "histogram2d"
           }
          ],
          "histogram2dcontour": [
           {
            "colorbar": {
             "outlinewidth": 0,
             "ticks": ""
            },
            "colorscale": [
             [
              0,
              "#0d0887"
             ],
             [
              0.1111111111111111,
              "#46039f"
             ],
             [
              0.2222222222222222,
              "#7201a8"
             ],
             [
              0.3333333333333333,
              "#9c179e"
             ],
             [
              0.4444444444444444,
              "#bd3786"
             ],
             [
              0.5555555555555556,
              "#d8576b"
             ],
             [
              0.6666666666666666,
              "#ed7953"
             ],
             [
              0.7777777777777778,
              "#fb9f3a"
             ],
             [
              0.8888888888888888,
              "#fdca26"
             ],
             [
              1,
              "#f0f921"
             ]
            ],
            "type": "histogram2dcontour"
           }
          ],
          "mesh3d": [
           {
            "colorbar": {
             "outlinewidth": 0,
             "ticks": ""
            },
            "type": "mesh3d"
           }
          ],
          "parcoords": [
           {
            "line": {
             "colorbar": {
              "outlinewidth": 0,
              "ticks": ""
             }
            },
            "type": "parcoords"
           }
          ],
          "pie": [
           {
            "automargin": true,
            "type": "pie"
           }
          ],
          "scatter": [
           {
            "fillpattern": {
             "fillmode": "overlay",
             "size": 10,
             "solidity": 0.2
            },
            "type": "scatter"
           }
          ],
          "scatter3d": [
           {
            "line": {
             "colorbar": {
              "outlinewidth": 0,
              "ticks": ""
             }
            },
            "marker": {
             "colorbar": {
              "outlinewidth": 0,
              "ticks": ""
             }
            },
            "type": "scatter3d"
           }
          ],
          "scattercarpet": [
           {
            "marker": {
             "colorbar": {
              "outlinewidth": 0,
              "ticks": ""
             }
            },
            "type": "scattercarpet"
           }
          ],
          "scattergeo": [
           {
            "marker": {
             "colorbar": {
              "outlinewidth": 0,
              "ticks": ""
             }
            },
            "type": "scattergeo"
           }
          ],
          "scattergl": [
           {
            "marker": {
             "colorbar": {
              "outlinewidth": 0,
              "ticks": ""
             }
            },
            "type": "scattergl"
           }
          ],
          "scattermapbox": [
           {
            "marker": {
             "colorbar": {
              "outlinewidth": 0,
              "ticks": ""
             }
            },
            "type": "scattermapbox"
           }
          ],
          "scatterpolar": [
           {
            "marker": {
             "colorbar": {
              "outlinewidth": 0,
              "ticks": ""
             }
            },
            "type": "scatterpolar"
           }
          ],
          "scatterpolargl": [
           {
            "marker": {
             "colorbar": {
              "outlinewidth": 0,
              "ticks": ""
             }
            },
            "type": "scatterpolargl"
           }
          ],
          "scatterternary": [
           {
            "marker": {
             "colorbar": {
              "outlinewidth": 0,
              "ticks": ""
             }
            },
            "type": "scatterternary"
           }
          ],
          "surface": [
           {
            "colorbar": {
             "outlinewidth": 0,
             "ticks": ""
            },
            "colorscale": [
             [
              0,
              "#0d0887"
             ],
             [
              0.1111111111111111,
              "#46039f"
             ],
             [
              0.2222222222222222,
              "#7201a8"
             ],
             [
              0.3333333333333333,
              "#9c179e"
             ],
             [
              0.4444444444444444,
              "#bd3786"
             ],
             [
              0.5555555555555556,
              "#d8576b"
             ],
             [
              0.6666666666666666,
              "#ed7953"
             ],
             [
              0.7777777777777778,
              "#fb9f3a"
             ],
             [
              0.8888888888888888,
              "#fdca26"
             ],
             [
              1,
              "#f0f921"
             ]
            ],
            "type": "surface"
           }
          ],
          "table": [
           {
            "cells": {
             "fill": {
              "color": "#EBF0F8"
             },
             "line": {
              "color": "white"
             }
            },
            "header": {
             "fill": {
              "color": "#C8D4E3"
             },
             "line": {
              "color": "white"
             }
            },
            "type": "table"
           }
          ]
         },
         "layout": {
          "annotationdefaults": {
           "arrowcolor": "#2a3f5f",
           "arrowhead": 0,
           "arrowwidth": 1
          },
          "autotypenumbers": "strict",
          "coloraxis": {
           "colorbar": {
            "outlinewidth": 0,
            "ticks": ""
           }
          },
          "colorscale": {
           "diverging": [
            [
             0,
             "#8e0152"
            ],
            [
             0.1,
             "#c51b7d"
            ],
            [
             0.2,
             "#de77ae"
            ],
            [
             0.3,
             "#f1b6da"
            ],
            [
             0.4,
             "#fde0ef"
            ],
            [
             0.5,
             "#f7f7f7"
            ],
            [
             0.6,
             "#e6f5d0"
            ],
            [
             0.7,
             "#b8e186"
            ],
            [
             0.8,
             "#7fbc41"
            ],
            [
             0.9,
             "#4d9221"
            ],
            [
             1,
             "#276419"
            ]
           ],
           "sequential": [
            [
             0,
             "#0d0887"
            ],
            [
             0.1111111111111111,
             "#46039f"
            ],
            [
             0.2222222222222222,
             "#7201a8"
            ],
            [
             0.3333333333333333,
             "#9c179e"
            ],
            [
             0.4444444444444444,
             "#bd3786"
            ],
            [
             0.5555555555555556,
             "#d8576b"
            ],
            [
             0.6666666666666666,
             "#ed7953"
            ],
            [
             0.7777777777777778,
             "#fb9f3a"
            ],
            [
             0.8888888888888888,
             "#fdca26"
            ],
            [
             1,
             "#f0f921"
            ]
           ],
           "sequentialminus": [
            [
             0,
             "#0d0887"
            ],
            [
             0.1111111111111111,
             "#46039f"
            ],
            [
             0.2222222222222222,
             "#7201a8"
            ],
            [
             0.3333333333333333,
             "#9c179e"
            ],
            [
             0.4444444444444444,
             "#bd3786"
            ],
            [
             0.5555555555555556,
             "#d8576b"
            ],
            [
             0.6666666666666666,
             "#ed7953"
            ],
            [
             0.7777777777777778,
             "#fb9f3a"
            ],
            [
             0.8888888888888888,
             "#fdca26"
            ],
            [
             1,
             "#f0f921"
            ]
           ]
          },
          "colorway": [
           "#636efa",
           "#EF553B",
           "#00cc96",
           "#ab63fa",
           "#FFA15A",
           "#19d3f3",
           "#FF6692",
           "#B6E880",
           "#FF97FF",
           "#FECB52"
          ],
          "font": {
           "color": "#2a3f5f"
          },
          "geo": {
           "bgcolor": "white",
           "lakecolor": "white",
           "landcolor": "#E5ECF6",
           "showlakes": true,
           "showland": true,
           "subunitcolor": "white"
          },
          "hoverlabel": {
           "align": "left"
          },
          "hovermode": "closest",
          "mapbox": {
           "style": "light"
          },
          "paper_bgcolor": "white",
          "plot_bgcolor": "#E5ECF6",
          "polar": {
           "angularaxis": {
            "gridcolor": "white",
            "linecolor": "white",
            "ticks": ""
           },
           "bgcolor": "#E5ECF6",
           "radialaxis": {
            "gridcolor": "white",
            "linecolor": "white",
            "ticks": ""
           }
          },
          "scene": {
           "xaxis": {
            "backgroundcolor": "#E5ECF6",
            "gridcolor": "white",
            "gridwidth": 2,
            "linecolor": "white",
            "showbackground": true,
            "ticks": "",
            "zerolinecolor": "white"
           },
           "yaxis": {
            "backgroundcolor": "#E5ECF6",
            "gridcolor": "white",
            "gridwidth": 2,
            "linecolor": "white",
            "showbackground": true,
            "ticks": "",
            "zerolinecolor": "white"
           },
           "zaxis": {
            "backgroundcolor": "#E5ECF6",
            "gridcolor": "white",
            "gridwidth": 2,
            "linecolor": "white",
            "showbackground": true,
            "ticks": "",
            "zerolinecolor": "white"
           }
          },
          "shapedefaults": {
           "line": {
            "color": "#2a3f5f"
           }
          },
          "ternary": {
           "aaxis": {
            "gridcolor": "white",
            "linecolor": "white",
            "ticks": ""
           },
           "baxis": {
            "gridcolor": "white",
            "linecolor": "white",
            "ticks": ""
           },
           "bgcolor": "#E5ECF6",
           "caxis": {
            "gridcolor": "white",
            "linecolor": "white",
            "ticks": ""
           }
          },
          "title": {
           "x": 0.05
          },
          "xaxis": {
           "automargin": true,
           "gridcolor": "white",
           "linecolor": "white",
           "ticks": "",
           "title": {
            "standoff": 15
           },
           "zerolinecolor": "white",
           "zerolinewidth": 2
          },
          "yaxis": {
           "automargin": true,
           "gridcolor": "white",
           "linecolor": "white",
           "ticks": "",
           "title": {
            "standoff": 15
           },
           "zerolinecolor": "white",
           "zerolinewidth": 2
          }
         }
        },
        "title": {
         "text": "Optimization History Plot"
        },
        "xaxis": {
         "title": {
          "text": "Trial"
         }
        },
        "yaxis": {
         "title": {
          "text": "Objective Value"
         }
        }
       }
      },
      "text/html": [
       "<div>                            <div id=\"1f89431c-589c-4bf2-aaf6-b43b046a98dd\" class=\"plotly-graph-div\" style=\"height:525px; width:100%;\"></div>            <script type=\"text/javascript\">                require([\"plotly\"], function(Plotly) {                    window.PLOTLYENV=window.PLOTLYENV || {};                                    if (document.getElementById(\"1f89431c-589c-4bf2-aaf6-b43b046a98dd\")) {                    Plotly.newPlot(                        \"1f89431c-589c-4bf2-aaf6-b43b046a98dd\",                        [{\"mode\":\"markers\",\"name\":\"Objective Value\",\"x\":[0,1,2,3,4,5,6,7,8,9,10,11,12,13,14,15,16,17,18,19,20,21,22,23,24,25,26,27,28,29,30,31,32,33,34,35,36,37,38,39,40,41,42,43,44,45,46,47,48,49,50,51,52,53,54,55,56,57,58,59,60,61,62,63,64,65,66,67,68,69,70,71,72,73,74,75,76,77,78,79,80,81,82,83,84,85,86,87,88,89,90,91,92,93,94,95,96,97,98,99],\"y\":[0.8632132644212578,0.842524539080473,0.7866987831647602,0.8175581905582548,0.8350113764237006,0.8481537132504169,0.7823807946856203,0.8525087719009199,0.8584806392105756,0.8123266283004122,0.8049414263833078,0.6194843017435063,0.8176290357746375,0.5776625581933041,0.8379959371092186,0.6134371957156768,0.8418926986041295,0.8220922844067482,0.750564976870959,0.7481963302177914,0.8134988694970704,0.8720170182291881,0.8473996785055065,0.8524821362963109,0.5571970776622837,0.8531307269982333,0.8583125877670631,0.562760074711498,0.8720197641678076,0.8698941330824643,0.824955749199147,0.7933760821057614,0.5879359383503828,0.7662448355759414,0.8546050214430347,0.7980134232463475,0.8628118081950891,0.8631525791777672,0.8722751364594197,0.7919635712798985,0.8484211676719549,0.846746419707931,0.7987021046521143,0.8007294311348799,0.8053958792248326,0.8507368177097664,0.8155594218371318,0.7867679808179713,0.822268848259981,0.8086553083661611,0.8661453776791437,0.8319342776067058,0.8231148719486443,0.8225003308856036,0.844651268541264,0.8652782102631104,0.8359916765108566,0.8417924718445183,0.8619814363565568,0.863190198536854,0.8045234945254222,0.8366246153626479,0.8648097531346263,0.830957821833617,0.8602149740426422,0.8144204064977695,0.8578504462974039,0.8421104515366546,0.8579350212068839,0.8631709769665177,0.8591594352373122,0.853601106283751,0.8370848346752735,0.8435204910177602,0.8628035703792305,0.8379042227593279,0.8622477924026468,0.8626281049014455,0.8561658129543499,0.8596775938548091,0.8673717138666055,0.863910458236745,0.8256812261824149,0.8342930388808433,0.8574481662896493,0.857807335061078,0.868686194683753,0.8564478208505709,0.8420094009954576,0.8525235999694651,0.8409080050151823,0.8457793001261484,0.8687367199543515,0.8689231691866146,0.8654858032227434,0.8489464657298622,0.8477533553996961,0.8223965344057871,0.8703249708518616,0.8199834035469838],\"type\":\"scatter\"},{\"name\":\"Best Value\",\"x\":[0,1,2,3,4,5,6,7,8,9,10,11,12,13,14,15,16,17,18,19,20,21,22,23,24,25,26,27,28,29,30,31,32,33,34,35,36,37,38,39,40,41,42,43,44,45,46,47,48,49,50,51,52,53,54,55,56,57,58,59,60,61,62,63,64,65,66,67,68,69,70,71,72,73,74,75,76,77,78,79,80,81,82,83,84,85,86,87,88,89,90,91,92,93,94,95,96,97,98,99],\"y\":[0.8632132644212578,0.8632132644212578,0.8632132644212578,0.8632132644212578,0.8632132644212578,0.8632132644212578,0.8632132644212578,0.8632132644212578,0.8632132644212578,0.8632132644212578,0.8632132644212578,0.8632132644212578,0.8632132644212578,0.8632132644212578,0.8632132644212578,0.8632132644212578,0.8632132644212578,0.8632132644212578,0.8632132644212578,0.8632132644212578,0.8632132644212578,0.8720170182291881,0.8720170182291881,0.8720170182291881,0.8720170182291881,0.8720170182291881,0.8720170182291881,0.8720170182291881,0.8720197641678076,0.8720197641678076,0.8720197641678076,0.8720197641678076,0.8720197641678076,0.8720197641678076,0.8720197641678076,0.8720197641678076,0.8720197641678076,0.8720197641678076,0.8722751364594197,0.8722751364594197,0.8722751364594197,0.8722751364594197,0.8722751364594197,0.8722751364594197,0.8722751364594197,0.8722751364594197,0.8722751364594197,0.8722751364594197,0.8722751364594197,0.8722751364594197,0.8722751364594197,0.8722751364594197,0.8722751364594197,0.8722751364594197,0.8722751364594197,0.8722751364594197,0.8722751364594197,0.8722751364594197,0.8722751364594197,0.8722751364594197,0.8722751364594197,0.8722751364594197,0.8722751364594197,0.8722751364594197,0.8722751364594197,0.8722751364594197,0.8722751364594197,0.8722751364594197,0.8722751364594197,0.8722751364594197,0.8722751364594197,0.8722751364594197,0.8722751364594197,0.8722751364594197,0.8722751364594197,0.8722751364594197,0.8722751364594197,0.8722751364594197,0.8722751364594197,0.8722751364594197,0.8722751364594197,0.8722751364594197,0.8722751364594197,0.8722751364594197,0.8722751364594197,0.8722751364594197,0.8722751364594197,0.8722751364594197,0.8722751364594197,0.8722751364594197,0.8722751364594197,0.8722751364594197,0.8722751364594197,0.8722751364594197,0.8722751364594197,0.8722751364594197,0.8722751364594197,0.8722751364594197,0.8722751364594197,0.8722751364594197],\"type\":\"scatter\"}],                        {\"title\":{\"text\":\"Optimization History Plot\"},\"xaxis\":{\"title\":{\"text\":\"Trial\"}},\"yaxis\":{\"title\":{\"text\":\"Objective Value\"}},\"template\":{\"data\":{\"histogram2dcontour\":[{\"type\":\"histogram2dcontour\",\"colorbar\":{\"outlinewidth\":0,\"ticks\":\"\"},\"colorscale\":[[0.0,\"#0d0887\"],[0.1111111111111111,\"#46039f\"],[0.2222222222222222,\"#7201a8\"],[0.3333333333333333,\"#9c179e\"],[0.4444444444444444,\"#bd3786\"],[0.5555555555555556,\"#d8576b\"],[0.6666666666666666,\"#ed7953\"],[0.7777777777777778,\"#fb9f3a\"],[0.8888888888888888,\"#fdca26\"],[1.0,\"#f0f921\"]]}],\"choropleth\":[{\"type\":\"choropleth\",\"colorbar\":{\"outlinewidth\":0,\"ticks\":\"\"}}],\"histogram2d\":[{\"type\":\"histogram2d\",\"colorbar\":{\"outlinewidth\":0,\"ticks\":\"\"},\"colorscale\":[[0.0,\"#0d0887\"],[0.1111111111111111,\"#46039f\"],[0.2222222222222222,\"#7201a8\"],[0.3333333333333333,\"#9c179e\"],[0.4444444444444444,\"#bd3786\"],[0.5555555555555556,\"#d8576b\"],[0.6666666666666666,\"#ed7953\"],[0.7777777777777778,\"#fb9f3a\"],[0.8888888888888888,\"#fdca26\"],[1.0,\"#f0f921\"]]}],\"heatmap\":[{\"type\":\"heatmap\",\"colorbar\":{\"outlinewidth\":0,\"ticks\":\"\"},\"colorscale\":[[0.0,\"#0d0887\"],[0.1111111111111111,\"#46039f\"],[0.2222222222222222,\"#7201a8\"],[0.3333333333333333,\"#9c179e\"],[0.4444444444444444,\"#bd3786\"],[0.5555555555555556,\"#d8576b\"],[0.6666666666666666,\"#ed7953\"],[0.7777777777777778,\"#fb9f3a\"],[0.8888888888888888,\"#fdca26\"],[1.0,\"#f0f921\"]]}],\"heatmapgl\":[{\"type\":\"heatmapgl\",\"colorbar\":{\"outlinewidth\":0,\"ticks\":\"\"},\"colorscale\":[[0.0,\"#0d0887\"],[0.1111111111111111,\"#46039f\"],[0.2222222222222222,\"#7201a8\"],[0.3333333333333333,\"#9c179e\"],[0.4444444444444444,\"#bd3786\"],[0.5555555555555556,\"#d8576b\"],[0.6666666666666666,\"#ed7953\"],[0.7777777777777778,\"#fb9f3a\"],[0.8888888888888888,\"#fdca26\"],[1.0,\"#f0f921\"]]}],\"contourcarpet\":[{\"type\":\"contourcarpet\",\"colorbar\":{\"outlinewidth\":0,\"ticks\":\"\"}}],\"contour\":[{\"type\":\"contour\",\"colorbar\":{\"outlinewidth\":0,\"ticks\":\"\"},\"colorscale\":[[0.0,\"#0d0887\"],[0.1111111111111111,\"#46039f\"],[0.2222222222222222,\"#7201a8\"],[0.3333333333333333,\"#9c179e\"],[0.4444444444444444,\"#bd3786\"],[0.5555555555555556,\"#d8576b\"],[0.6666666666666666,\"#ed7953\"],[0.7777777777777778,\"#fb9f3a\"],[0.8888888888888888,\"#fdca26\"],[1.0,\"#f0f921\"]]}],\"surface\":[{\"type\":\"surface\",\"colorbar\":{\"outlinewidth\":0,\"ticks\":\"\"},\"colorscale\":[[0.0,\"#0d0887\"],[0.1111111111111111,\"#46039f\"],[0.2222222222222222,\"#7201a8\"],[0.3333333333333333,\"#9c179e\"],[0.4444444444444444,\"#bd3786\"],[0.5555555555555556,\"#d8576b\"],[0.6666666666666666,\"#ed7953\"],[0.7777777777777778,\"#fb9f3a\"],[0.8888888888888888,\"#fdca26\"],[1.0,\"#f0f921\"]]}],\"mesh3d\":[{\"type\":\"mesh3d\",\"colorbar\":{\"outlinewidth\":0,\"ticks\":\"\"}}],\"scatter\":[{\"fillpattern\":{\"fillmode\":\"overlay\",\"size\":10,\"solidity\":0.2},\"type\":\"scatter\"}],\"parcoords\":[{\"type\":\"parcoords\",\"line\":{\"colorbar\":{\"outlinewidth\":0,\"ticks\":\"\"}}}],\"scatterpolargl\":[{\"type\":\"scatterpolargl\",\"marker\":{\"colorbar\":{\"outlinewidth\":0,\"ticks\":\"\"}}}],\"bar\":[{\"error_x\":{\"color\":\"#2a3f5f\"},\"error_y\":{\"color\":\"#2a3f5f\"},\"marker\":{\"line\":{\"color\":\"#E5ECF6\",\"width\":0.5},\"pattern\":{\"fillmode\":\"overlay\",\"size\":10,\"solidity\":0.2}},\"type\":\"bar\"}],\"scattergeo\":[{\"type\":\"scattergeo\",\"marker\":{\"colorbar\":{\"outlinewidth\":0,\"ticks\":\"\"}}}],\"scatterpolar\":[{\"type\":\"scatterpolar\",\"marker\":{\"colorbar\":{\"outlinewidth\":0,\"ticks\":\"\"}}}],\"histogram\":[{\"marker\":{\"pattern\":{\"fillmode\":\"overlay\",\"size\":10,\"solidity\":0.2}},\"type\":\"histogram\"}],\"scattergl\":[{\"type\":\"scattergl\",\"marker\":{\"colorbar\":{\"outlinewidth\":0,\"ticks\":\"\"}}}],\"scatter3d\":[{\"type\":\"scatter3d\",\"line\":{\"colorbar\":{\"outlinewidth\":0,\"ticks\":\"\"}},\"marker\":{\"colorbar\":{\"outlinewidth\":0,\"ticks\":\"\"}}}],\"scattermapbox\":[{\"type\":\"scattermapbox\",\"marker\":{\"colorbar\":{\"outlinewidth\":0,\"ticks\":\"\"}}}],\"scatterternary\":[{\"type\":\"scatterternary\",\"marker\":{\"colorbar\":{\"outlinewidth\":0,\"ticks\":\"\"}}}],\"scattercarpet\":[{\"type\":\"scattercarpet\",\"marker\":{\"colorbar\":{\"outlinewidth\":0,\"ticks\":\"\"}}}],\"carpet\":[{\"aaxis\":{\"endlinecolor\":\"#2a3f5f\",\"gridcolor\":\"white\",\"linecolor\":\"white\",\"minorgridcolor\":\"white\",\"startlinecolor\":\"#2a3f5f\"},\"baxis\":{\"endlinecolor\":\"#2a3f5f\",\"gridcolor\":\"white\",\"linecolor\":\"white\",\"minorgridcolor\":\"white\",\"startlinecolor\":\"#2a3f5f\"},\"type\":\"carpet\"}],\"table\":[{\"cells\":{\"fill\":{\"color\":\"#EBF0F8\"},\"line\":{\"color\":\"white\"}},\"header\":{\"fill\":{\"color\":\"#C8D4E3\"},\"line\":{\"color\":\"white\"}},\"type\":\"table\"}],\"barpolar\":[{\"marker\":{\"line\":{\"color\":\"#E5ECF6\",\"width\":0.5},\"pattern\":{\"fillmode\":\"overlay\",\"size\":10,\"solidity\":0.2}},\"type\":\"barpolar\"}],\"pie\":[{\"automargin\":true,\"type\":\"pie\"}]},\"layout\":{\"autotypenumbers\":\"strict\",\"colorway\":[\"#636efa\",\"#EF553B\",\"#00cc96\",\"#ab63fa\",\"#FFA15A\",\"#19d3f3\",\"#FF6692\",\"#B6E880\",\"#FF97FF\",\"#FECB52\"],\"font\":{\"color\":\"#2a3f5f\"},\"hovermode\":\"closest\",\"hoverlabel\":{\"align\":\"left\"},\"paper_bgcolor\":\"white\",\"plot_bgcolor\":\"#E5ECF6\",\"polar\":{\"bgcolor\":\"#E5ECF6\",\"angularaxis\":{\"gridcolor\":\"white\",\"linecolor\":\"white\",\"ticks\":\"\"},\"radialaxis\":{\"gridcolor\":\"white\",\"linecolor\":\"white\",\"ticks\":\"\"}},\"ternary\":{\"bgcolor\":\"#E5ECF6\",\"aaxis\":{\"gridcolor\":\"white\",\"linecolor\":\"white\",\"ticks\":\"\"},\"baxis\":{\"gridcolor\":\"white\",\"linecolor\":\"white\",\"ticks\":\"\"},\"caxis\":{\"gridcolor\":\"white\",\"linecolor\":\"white\",\"ticks\":\"\"}},\"coloraxis\":{\"colorbar\":{\"outlinewidth\":0,\"ticks\":\"\"}},\"colorscale\":{\"sequential\":[[0.0,\"#0d0887\"],[0.1111111111111111,\"#46039f\"],[0.2222222222222222,\"#7201a8\"],[0.3333333333333333,\"#9c179e\"],[0.4444444444444444,\"#bd3786\"],[0.5555555555555556,\"#d8576b\"],[0.6666666666666666,\"#ed7953\"],[0.7777777777777778,\"#fb9f3a\"],[0.8888888888888888,\"#fdca26\"],[1.0,\"#f0f921\"]],\"sequentialminus\":[[0.0,\"#0d0887\"],[0.1111111111111111,\"#46039f\"],[0.2222222222222222,\"#7201a8\"],[0.3333333333333333,\"#9c179e\"],[0.4444444444444444,\"#bd3786\"],[0.5555555555555556,\"#d8576b\"],[0.6666666666666666,\"#ed7953\"],[0.7777777777777778,\"#fb9f3a\"],[0.8888888888888888,\"#fdca26\"],[1.0,\"#f0f921\"]],\"diverging\":[[0,\"#8e0152\"],[0.1,\"#c51b7d\"],[0.2,\"#de77ae\"],[0.3,\"#f1b6da\"],[0.4,\"#fde0ef\"],[0.5,\"#f7f7f7\"],[0.6,\"#e6f5d0\"],[0.7,\"#b8e186\"],[0.8,\"#7fbc41\"],[0.9,\"#4d9221\"],[1,\"#276419\"]]},\"xaxis\":{\"gridcolor\":\"white\",\"linecolor\":\"white\",\"ticks\":\"\",\"title\":{\"standoff\":15},\"zerolinecolor\":\"white\",\"automargin\":true,\"zerolinewidth\":2},\"yaxis\":{\"gridcolor\":\"white\",\"linecolor\":\"white\",\"ticks\":\"\",\"title\":{\"standoff\":15},\"zerolinecolor\":\"white\",\"automargin\":true,\"zerolinewidth\":2},\"scene\":{\"xaxis\":{\"backgroundcolor\":\"#E5ECF6\",\"gridcolor\":\"white\",\"linecolor\":\"white\",\"showbackground\":true,\"ticks\":\"\",\"zerolinecolor\":\"white\",\"gridwidth\":2},\"yaxis\":{\"backgroundcolor\":\"#E5ECF6\",\"gridcolor\":\"white\",\"linecolor\":\"white\",\"showbackground\":true,\"ticks\":\"\",\"zerolinecolor\":\"white\",\"gridwidth\":2},\"zaxis\":{\"backgroundcolor\":\"#E5ECF6\",\"gridcolor\":\"white\",\"linecolor\":\"white\",\"showbackground\":true,\"ticks\":\"\",\"zerolinecolor\":\"white\",\"gridwidth\":2}},\"shapedefaults\":{\"line\":{\"color\":\"#2a3f5f\"}},\"annotationdefaults\":{\"arrowcolor\":\"#2a3f5f\",\"arrowhead\":0,\"arrowwidth\":1},\"geo\":{\"bgcolor\":\"white\",\"landcolor\":\"#E5ECF6\",\"subunitcolor\":\"white\",\"showland\":true,\"showlakes\":true,\"lakecolor\":\"white\"},\"title\":{\"x\":0.05},\"mapbox\":{\"style\":\"light\"}}}},                        {\"responsive\": true}                    ).then(function(){\n",
       "                            \n",
       "var gd = document.getElementById('1f89431c-589c-4bf2-aaf6-b43b046a98dd');\n",
       "var x = new MutationObserver(function (mutations, observer) {{\n",
       "        var display = window.getComputedStyle(gd).display;\n",
       "        if (!display || display === 'none') {{\n",
       "            console.log([gd, 'removed!']);\n",
       "            Plotly.purge(gd);\n",
       "            observer.disconnect();\n",
       "        }}\n",
       "}});\n",
       "\n",
       "// Listen for the removal of the full notebook cells\n",
       "var notebookContainer = gd.closest('#notebook-container');\n",
       "if (notebookContainer) {{\n",
       "    x.observe(notebookContainer, {childList: true});\n",
       "}}\n",
       "\n",
       "// Listen for the clearing of the current output cell\n",
       "var outputEl = gd.closest('.output');\n",
       "if (outputEl) {{\n",
       "    x.observe(outputEl, {childList: true});\n",
       "}}\n",
       "\n",
       "                        })                };                });            </script>        </div>"
      ]
     },
     "metadata": {},
     "output_type": "display_data"
    }
   ],
   "source": [
    "import optuna\n",
    "input_size = 200\n",
    "reservoir_size = 1000\n",
    "output_size = 1\n",
    "\n",
    "\n",
    "#np.random.seed(75)\n",
    "\n",
    "\n",
    "#def prune(trial):\n",
    "#    if trial.intermediate_values:\n",
    "#        last_value = list(trial.intermediate_values.values())[-1]\n",
    "#        if last_value < 0.65:\n",
    "#            return True\n",
    "#    return False\n",
    "\n",
    "\n",
    "\n",
    "\n",
    "def objective(trial):\n",
    "    # Define the search space for hyperparameters\n",
    "    #reservoir_size = trial.suggest_int(\"reservoir_size\", 700, 1500)\n",
    "    spectral_radius = trial.suggest_float(\"spectral_radius\", 0.0, 1.0)\n",
    "    sparsity = trial.suggest_float(\"sparsity\", 0.0, 0.2)\n",
    "    leaking_rate = trial.suggest_float(\"leaking_rate\", 0.8, 0.99)\n",
    "    input_scaling = trial.suggest_float(\"input_scaling\", 0.1, 5.0)\n",
    "    threshold = trial.suggest_float(\"threshold\", 0.4, 1.0)\n",
    "    ridge_alpha = trial.suggest_float(\"ridge_alpha\", 0.0001, 1.0)\n",
    "    #random_seed = trial.suggest_int(\"random_seed\", 1, 200)\n",
    "\n",
    "    # Initialize the ESN with the given hyperparameters\n",
    "    #esn = ESN(input_size=input_size, reservoir_size=reservoir_size, output_size=output_size, \n",
    "    #          leaking_rate=leaking_rate, spectral_radius=spectral_radius, input_scaling=input_scaling, \n",
    "    #          threshold=threshold, sparsity=sparsity, ridge_alpha=ridge_alpha)\n",
    "    \n",
    "    \n",
    "    esn = ESN(input_size=input_size, reservoir_size=reservoir_size, output_size=output_size, \n",
    "              leaking_rate=leaking_rate, spectral_radius=spectral_radius, input_scaling=input_scaling, sparsity=sparsity, \n",
    "              ridge_alpha=ridge_alpha, random_seed=83)\n",
    "    \n",
    "    #esn = ESN(input_size=input_size, reservoir_size=reservoir_size, output_size=output_size,\n",
    "    #         leaking_rate=0.95, sparsity=0.1, random_seed=random_seed)\n",
    "\n",
    "    # Train and evaluate the ESN on the training set\n",
    "    esn.fit(X_train_opt, y_train_opt)\n",
    "    y_pred, y_prob = esn.predict(X_val)\n",
    "    score = balanced_accuracy_score(y_val.flatten(), y_pred.flatten())\n",
    "    print(\"F1: \", f1_score(y_val.flatten(), y_pred.flatten()))\n",
    "    print(\"AUC: \", roc_auc_score(y_val.flatten(), y_prob.flatten()))\n",
    "    \n",
    "    #trial_number = trial.number\n",
    "    #if prune(trial):\n",
    "    #    raise optuna.exceptions.TrialPruned()\n",
    "    #print(trial.params, score)\n",
    "\n",
    "    return score\n",
    "\n",
    "\n",
    "study = optuna.create_study(direction=\"maximize\")\n",
    "\n",
    "# Run the optimization\n",
    "study.optimize(objective, n_trials=100, n_jobs=-1)\n",
    "\n",
    "# Print the best hyperparameters and score\n",
    "best_params = study.best_params\n",
    "best_score = study.best_value\n",
    "print(f\"Best hyperparameters: {best_params}\")\n",
    "print(f\"Best score: {best_score}\")\n",
    "optuna.visualization.plot_param_importances(study)\n",
    "plot_optimization_history(study)\n",
    "\n",
    "\n",
    "\n"
   ]
  },
  {
   "cell_type": "code",
   "execution_count": null,
   "id": "a077d1b1",
   "metadata": {
    "scrolled": false
   },
   "outputs": [],
   "source": [
    "\n",
    "\n",
    "\n",
    "\n",
    "#esn = ESN(input_size=400, reservoir_size=500, output_size=1, alpha=0.5, gamma=0.1, spectral_radius=0.95, sparsity=0.1)\n",
    "#esn = ESN(input_scaling=0.6075448519014384, input_size=400,\n",
    "    #leaking_rate=0.17052412368729153, output_size=1, reservoir_size=1000,\n",
    "    #sparsity=0.06505159298527952, spectral_radius=0.9488855372533332,\n",
    "    #threshold=0.9656320330745594)\n",
    "    \n",
    "#np.random.seed(42)\n",
    "#esn = ESN(input_scaling=0.6998812876189486, input_size=400,\n",
    "#    leaking_rate=0.08210799041387684, output_size=1, reservoir_size=1000,\n",
    "#    sparsity=0.9252733800015754, spectral_radius=0.3364410948180354, threshold=0.39462707778742845)\n",
    "\n",
    "\n",
    "esn = ESN(input_size=200, reservoir_size=1000, output_size=1, leaking_rate=0.890752732058367, spectral_radius=0.5215203845623011,\n",
    "         sparsity=0.08860864301501147, input_scaling=4.919175568058266, threshold=0.9219100448194322, ridge_alpha=0.6669484997770273, random_seed=83)\n",
    "\n",
    "\n",
    "\n",
    "#train_ESN(esn, pca_400, labels, epochs)\n",
    "\n",
    "\n",
    "# ESN trained using dataset as shape (V*F, D)\n",
    "#train_states = esn.fit(pca_400_train, labels_train)\n",
    "#y_pred = esn.predict(pca_400_test)\n",
    "#esn_accuracy = recall_score(labels_test, y_pred)\n",
    "#print(\"ESN Accuracy: \", esn_accuracy)\n",
    "#auc_score = roc_auc_score(labels_test, y_pred)\n",
    "#print(\"ESN AUC: \", auc_score)\n",
    "\n",
    "\n",
    "\n",
    "\n",
    "# Trained using (V, F, D)\n",
    "#VF, D = pca_400_train.shape\n",
    "#V = int(VF/200)\n",
    "#F = 200\n",
    "#train_data = pca_400_train.reshape(V, F, D)\n",
    "\n",
    "#train_states = None\n",
    "\n",
    "esn.fit(esn_input_train, y_train)\n",
    "    \n",
    "#VF, D = pca_400_test.shape\n",
    "#V = int(VF/200)\n",
    "#F = 200\n",
    "#test_data = pca_400_test.reshape(V, F, D)\n",
    "\n",
    "\n",
    "\n",
    "\n",
    "\n",
    "#acc = np.zeros((V))\n",
    "#for i in range(V):\n",
    "#    y_pred = esn.predict(test_data[i])\n",
    "#    esn_accuracy = recall_score(y_test[i], y_pred)\n",
    "#    acc[i] = esn_accuracy\n",
    "#    if 1 in y_test[i]:\n",
    "#        auc_score = roc_auc_score(y_test[i], y_pred)\n",
    "#        print(f\"Accuracy for video {i}: {esn_accuracy}     AUC for video {i}: {auc_score}\")\n",
    "#    else:\n",
    "#        print(f\"Accuracy for video {i}: {esn_accuracy}\")\n",
    "\n",
    "\n",
    "#print(np.mean(acc))\n",
    "\n",
    "esn_pred, prob = esn.predict(esn_input_test)\n",
    "fpr, tpr, thresholds = roc_curve(y_test.flatten(), prob.flatten())\n",
    "auc_score = roc_auc_score(y_test.flatten(), prob.flatten())\n",
    "print(esn_pred.flatten())\n",
    "print(y_test.flatten())\n",
    "balanced_accuracy = balanced_accuracy_score(y_test.flatten(), esn_pred.flatten())\n",
    "print(\"Bal Acc: \", balanced_accuracy)\n",
    "print(\"F1: \", f1_score(y_test.flatten(), esn_pred.flatten()))\n",
    "print(\"AUC: \", auc_score)\n",
    "\n",
    "\n",
    "\n",
    "plt.plot(fpr, tpr)\n",
    "plt.title(f'ROC Curve (AUC = {auc_score:.2f})')\n",
    "plt.xlabel('False Positive Rate')\n",
    "plt.ylabel('True Positive Rate')\n",
    "plt.show()\n",
    "\n",
    "\n",
    "\n",
    "\n",
    "\n",
    "\n",
    "#esn_accuracy = accuracy_score(y_test, y_pred)\n",
    "#print(\"ESN Accuracy: \", esn_accuracy)\n",
    "#auc_score = roc_auc_score(y_test, y_pred)\n",
    "#print(\"ESN AUC: \", auc_score)"
   ]
  },
  {
   "cell_type": "code",
   "execution_count": null,
   "id": "238f842c",
   "metadata": {},
   "outputs": [],
   "source": []
  },
  {
   "cell_type": "code",
   "execution_count": null,
   "id": "9793b718",
   "metadata": {},
   "outputs": [],
   "source": []
  },
  {
   "cell_type": "code",
   "execution_count": null,
   "id": "e7af8d2c",
   "metadata": {},
   "outputs": [],
   "source": []
  }
 ],
 "metadata": {
  "kernelspec": {
   "display_name": "Python 3 (ipykernel)",
   "language": "python",
   "name": "python3"
  },
  "language_info": {
   "codemirror_mode": {
    "name": "ipython",
    "version": 3
   },
   "file_extension": ".py",
   "mimetype": "text/x-python",
   "name": "python",
   "nbconvert_exporter": "python",
   "pygments_lexer": "ipython3",
   "version": "3.10.9"
  }
 },
 "nbformat": 4,
 "nbformat_minor": 5
}
